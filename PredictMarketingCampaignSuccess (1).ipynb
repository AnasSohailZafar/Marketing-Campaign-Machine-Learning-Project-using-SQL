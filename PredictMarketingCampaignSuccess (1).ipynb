{
 "cells": [
  {
   "cell_type": "markdown",
   "metadata": {
    "id": "sfFZ8Nvd8IpK"
   },
   "source": [
    "# Predict marketing campaign success"
   ]
  },
  {
   "cell_type": "markdown",
   "metadata": {
    "id": "4FYXb5c28IpN"
   },
   "source": [
    "## Context"
   ]
  },
  {
   "cell_type": "markdown",
   "metadata": {
    "id": "0WprbUpB8IpN"
   },
   "source": [
    "You have been contacted by a banking institution that is willing to leverage its data to improve its telemarketing strategy. <br>\n",
    "\n",
    "As it wants to decrease its exposure to international credit markets, the bank decided to launch a telemarketing campaign in order to increase the amount of clients' deposits. Higher level of deposits means lower needs to borrow money on credit markets.<br> \n",
    "\n",
    "The bank has accumulated data from previous telemarketing campaigns and asks you to analyse it to assess whether you can predict which customers are likely to submit a new deposit. If your analysis enables to identify high potential clients, it will allow the bank to allocate its efforts on highest potential clients. <br>\n",
    "\n",
    "In order to tackle that challenge you decided to use machine learning algorithms that you have learned in Data Management & Analytics classes."
   ]
  },
  {
   "cell_type": "markdown",
   "metadata": {
    "id": "03Y8iehs8IpO"
   },
   "source": [
    "## Data"
   ]
  },
  {
   "cell_type": "markdown",
   "metadata": {
    "id": "JqjmvUab8IpO"
   },
   "source": [
    "The dataset includes information about calls that took place during previous telemarketing campaigns.\n",
    "\n",
    "- age: age of the client\n",
    "- balance: balance on the client's account (€)\n",
    "- campaign: number of contacts performed during this campaign and for this client\n",
    "- day: day of the month when the call took place\n",
    "- default: whether the client credit in default ('yes':1, 'no':0)\n",
    "- duration: last call duration\n",
    "- education: client's education ('tertiary', 'secondary', 'unknown', 'primary')\n",
    "- housing: whether the client has housing loan ('yes':1, 'no':0)\n",
    "- loan: whether the client has personal loan ('yes':1, 'no':0)\n",
    "- marital: marital status('married':1, 'not married':0)\n",
    "- previous: number of contacts performed before this campaign and for this client\n",
    "- poutcome: outcome of the previous marketing campaign\n",
    "- subscription: whether the client subscribed to a term deposit after the call ('yes':1, 'no':0)."
   ]
  },
  {
   "cell_type": "markdown",
   "metadata": {
    "id": "CiwaLb0F8vYu"
   },
   "source": [
    "**Simply run the following lines to mount Google Drive**"
   ]
  },
  {
   "cell_type": "code",
   "execution_count": 63,
   "metadata": {
    "colab": {
     "base_uri": "https://localhost:8080/"
    },
    "id": "Uw4PmVHj8tTN",
    "outputId": "ff437f9b-4f11-4e70-f497-bf1e15111bd3"
   },
   "outputs": [
    {
     "name": "stdout",
     "output_type": "stream",
     "text": [
      "Mounted at /content/Mydrive\n"
     ]
    }
   ],
   "source": [
    "from google.colab import drive\n",
    "drive.mount('/content/Mydrive', force_remount=True)"
   ]
  },
  {
   "cell_type": "markdown",
   "metadata": {
    "id": "N1dB21Ju8IpP"
   },
   "source": [
    "**Simply run the following line to import python libraries**"
   ]
  },
  {
   "cell_type": "code",
   "execution_count": 64,
   "metadata": {
    "colab": {
     "base_uri": "https://localhost:8080/"
    },
    "id": "1weo75YbOgrS",
    "outputId": "5a139d46-ee30-4ab6-b8f5-70206a10b5cb"
   },
   "outputs": [
    {
     "name": "stdout",
     "output_type": "stream",
     "text": [
      "Looking in indexes: https://pypi.org/simple, https://us-python.pkg.dev/colab-wheels/public/simple/\n",
      "Collecting pymongo\n",
      "  Downloading pymongo-4.3.3-cp310-cp310-manylinux_2_17_x86_64.manylinux2014_x86_64.whl (492 kB)\n",
      "\u001b[2K     \u001b[90m━━━━━━━━━━━━━━━━━━━━━━━━━━━━━━━━━━━━━━\u001b[0m \u001b[32m492.9/492.9 kB\u001b[0m \u001b[31m11.0 MB/s\u001b[0m eta \u001b[36m0:00:00\u001b[0m\n",
      "\u001b[?25hCollecting dnspython<3.0.0,>=1.16.0 (from pymongo)\n",
      "  Downloading dnspython-2.3.0-py3-none-any.whl (283 kB)\n",
      "\u001b[2K     \u001b[90m━━━━━━━━━━━━━━━━━━━━━━━━━━━━━━━━━━━━━━\u001b[0m \u001b[32m283.7/283.7 kB\u001b[0m \u001b[31m31.4 MB/s\u001b[0m eta \u001b[36m0:00:00\u001b[0m\n",
      "\u001b[?25hInstalling collected packages: dnspython, pymongo\n",
      "Successfully installed dnspython-2.3.0 pymongo-4.3.3\n"
     ]
    }
   ],
   "source": [
    "#%pip install pymongo"
   ]
  },
  {
   "cell_type": "markdown",
   "metadata": {
    "id": "S-QQ2EVV55DJ"
   },
   "source": [
    "**IMPORTANT**: In this second project, you can use SQL or MongoDB. Some students had a problem with the free tier of MongoDB on CleverCloud, so don't hesitate to use SQL if you faced this problem."
   ]
  },
  {
   "cell_type": "code",
   "execution_count": 2,
   "metadata": {
    "colab": {
     "base_uri": "https://localhost:8080/"
    },
    "id": "qdahF9RIckkQ",
    "outputId": "0827f354-d838-4dde-b2d5-62657e2ffd65"
   },
   "outputs": [
    {
     "name": "stdout",
     "output_type": "stream",
     "text": [
      "Looking in indexes: https://pypi.org/simple, https://us-python.pkg.dev/colab-wheels/public/simple/\n",
      "Collecting pymysql\n",
      "  Downloading PyMySQL-1.0.3-py3-none-any.whl (43 kB)\n",
      "\u001b[2K     \u001b[90m━━━━━━━━━━━━━━━━━━━━━━━━━━━━━━━━━━━━━━━━\u001b[0m \u001b[32m43.7/43.7 kB\u001b[0m \u001b[31m2.6 MB/s\u001b[0m eta \u001b[36m0:00:00\u001b[0m\n",
      "\u001b[?25hInstalling collected packages: pymysql\n",
      "Successfully installed pymysql-1.0.3\n"
     ]
    }
   ],
   "source": [
    "!pip install pymysql"
   ]
  },
  {
   "cell_type": "code",
   "execution_count": 24,
   "metadata": {
    "id": "Tph2YvPtHFgn"
   },
   "outputs": [],
   "source": [
    "import sys\n",
    "import json\n",
    "import pymysql\n",
    "#from pymongo import MongoClient, InsertOne\n",
    "import matplotlib.pyplot as plt\n",
    "from IPython.display import Image\n",
    "import pydotplus\n",
    "from sklearn import tree\n",
    "from sklearn import svm\n",
    "from sklearn.neighbors import KNeighborsClassifier\n",
    "from sklearn.metrics import precision_score, recall_score,accuracy_score\n",
    "import csv\n",
    "\n",
    "\n",
    "# Establish a connection to your SQL database on Clever Cloud\n",
    "connection = pymysql.connect(\n",
    "    host=\"b4i0swx6dtvheimuo9qa-mysql.services.clever-cloud.com\",\n",
    "    user=\"ulcqp2irjxhawzk8\",\n",
    "    password=\"bv1E62zA09fRz1eWvMFd\",\n",
    "    database=\"b4i0swx6dtvheimuo9qa\"\n",
    ")\n",
    "\n",
    "# Create a cursor object to interact with the database\n",
    "cursor = connection.cursor()\n",
    "\n"
   ]
  },
  {
   "cell_type": "markdown",
   "metadata": {
    "id": "Um5yQZRytXkr"
   },
   "source": [
    "# A. Database SQL"
   ]
  },
  {
   "cell_type": "code",
   "execution_count": 66,
   "metadata": {
    "id": "q_684qTUxKyX"
   },
   "outputs": [],
   "source": []
  },
  {
   "cell_type": "markdown",
   "metadata": {
    "id": "V1mCu5Gotdy9"
   },
   "source": [
    "## A.1 Creation of SQL table\n",
    "\n",
    "*2 POINTS*\n",
    "\n",
    "Create a SQL table called \"predict_marketing_campaign\" that contains the following fields (NB: it's normal that not all fields are written here):\n",
    "\n",
    "- age (**integer**): age of the client\n",
    "- job_is_employee (**integer**): is the client has a job as an employee ('yes':1, 'no':0)\n",
    "- job_is_entrepreneur (**integer**): is the client has a job as an entrepreneur ('yes':1, 'no':0)\n",
    "- job_is_manager (**integer**): is the client has a job as an manager ('yes':1, 'no':0)\n",
    "- job_is_retired (**integer**): is the client has a job as an retired ('yes':1, 'no':0)\n",
    "- job_is_student (**integer**): is the client has a job as an student ('yes':1, 'no':0)\n",
    "- job_is_unemployed (**integer**): is the client has a job as an unemployed ('yes':1, 'no':0)\n",
    "- marital_is_married (**integer**): is the client married ('yes':1, 'no':0)\n",
    "- marital_is_single (**integer**): is the client single ('yes':1, 'no':0)\n",
    "- marital_is_divorced (**integer**): is the client divorced ('yes':1, 'no':0)\n",
    "- education_is_tertiary (**integer**): is the client has an tertiary education ('yes':1, 'no':0)\n",
    "- education_is_secondary (**integer**): is the client has an secondary education ('yes':1, 'no':0)\n",
    "- education_is_primary (**integer**): is the client has an primary education ('yes':1, 'no':0)\n",
    "- education_is_unknown (**integer**): is the client has an unknown education ('yes':1, 'no':0)\n",
    "- poutcome_is_failure (**integer**): is the outcome of the previous marketing campaign was a failure ('yes':1, 'no':0)\n",
    "- poutcome_is_success (**integer**): is the outcome of the previous marketing campaign was a success ('yes':1, 'no':0)\n",
    "- poutcome_is_unknown (**integer**): is the outcome of the previous marketing campaign was unknown ('yes':1, 'no':0)\n",
    "- default (**integer**): whether the client credit in default ('yes':1, 'no':0)\n",
    "- balance (**integer**): balance on the client's account (€)\n",
    "- housing (**integer**): whether the client has housing loan ('yes':1, 'no':0)\n",
    "- loan (**integer**): whether the client has personal loan ('yes':1, 'no':0)\n",
    "- duration (**integer**): last call duration\n",
    "- campaign (**integer**): number of contacts performed during this campaign and for this client\n",
    "- previous (**integer**): number of contacts performed before this campaign and for this client\n",
    "- subscription (**integer**): whether the client subscribed to a term deposit after the call ('yes':1, 'no':0)\n",
    "\n",
    "It's important to note that some initial fields in the CSV file are separated into different fields:\n",
    "\n",
    "- **job**: this variable has different values (\"employee\", \"entrepreneur\", etc.). This variable is separated into \"job_is_employee\", \"job_is_entrepreneur\", \"job_is_manager\", \"job_is_retired\", \"job_is_student\", \"job_is_unemployed\" depending on the value contained in \"job\".\n",
    "- **marital**: this variable has different values (\"married\", \"single\", etc.). This variable is separated into \"marital_is_married\", \"marital_is_single\", \"marital_is_divorced\" depending on the value contained in \"marital\".\n",
    "- **education**: this variable has different values (\"primary\", \"secondary\", etc.). This variable is separated into \"education_is_tertiary\", \"education_is_secondary\", \"education_is_primary\", \"education_is_unknown\" depending on the value contained in \"education\".\n",
    "- **poutcome**: this variable has different values (\"primary\", \"secondary\", etc.). This variable is separated into \"poutcome_is_failure\", \"poutcome_is_success\", \"poutcome_is_unknown\" depending on the value contained in \"poutcome\".\n",
    "\n",
    "In the end, you must have these variables in your SQL **with the precise types** (i.e. if a variable is said to be an integer, please transform it into an integer in DB)."
   ]
  },
  {
   "cell_type": "code",
   "execution_count": 1,
   "metadata": {
    "id": "oftWK4k3bzjf"
   },
   "outputs": [],
   "source": [
    "# Define the table name\n",
    "table_name = \"predict_marketing_campaign\"\n",
    "\n",
    "\n",
    "yes_no_map = {\"yes\": 1, \"no\": 0}"
   ]
  },
  {
   "cell_type": "markdown",
   "metadata": {
    "id": "MLsYvguBwNng"
   },
   "source": [
    "avoid running below cell because data has already been added to table and we dont want to add again otherwise we have to drop and rebuild table again"
   ]
  },
  {
   "cell_type": "code",
   "execution_count": 69,
   "metadata": {
    "colab": {
     "base_uri": "https://localhost:8080/",
     "height": 380
    },
    "id": "c-UdGJoLeZv2",
    "outputId": "945a752e-fc2e-4ef7-c60d-d8ca65e26623"
   },
   "outputs": [
    {
     "ename": "InterfaceError",
     "evalue": "ignored",
     "output_type": "error",
     "traceback": [
      "\u001b[0;31m---------------------------------------------------------------------------\u001b[0m",
      "\u001b[0;31mInterfaceError\u001b[0m                            Traceback (most recent call last)",
      "\u001b[0;32m<ipython-input-69-45f266dc0eab>\u001b[0m in \u001b[0;36m<cell line: 10>\u001b[0;34m()\u001b[0m\n\u001b[1;32m     77\u001b[0m \u001b[0;34m\u001b[0m\u001b[0m\n\u001b[1;32m     78\u001b[0m         \u001b[0;31m# Execute the insert query\u001b[0m\u001b[0;34m\u001b[0m\u001b[0;34m\u001b[0m\u001b[0m\n\u001b[0;32m---> 79\u001b[0;31m         \u001b[0mcursor\u001b[0m\u001b[0;34m.\u001b[0m\u001b[0mexecute\u001b[0m\u001b[0;34m(\u001b[0m\u001b[0minsert_query\u001b[0m\u001b[0;34m)\u001b[0m\u001b[0;34m\u001b[0m\u001b[0;34m\u001b[0m\u001b[0m\n\u001b[0m\u001b[1;32m     80\u001b[0m \u001b[0;34m\u001b[0m\u001b[0m\n\u001b[1;32m     81\u001b[0m         \u001b[0;31m# Commit the changes to the database\u001b[0m\u001b[0;34m\u001b[0m\u001b[0;34m\u001b[0m\u001b[0m\n",
      "\u001b[0;32m/usr/local/lib/python3.10/dist-packages/pymysql/cursors.py\u001b[0m in \u001b[0;36mexecute\u001b[0;34m(self, query, args)\u001b[0m\n\u001b[1;32m    156\u001b[0m         \u001b[0mquery\u001b[0m \u001b[0;34m=\u001b[0m \u001b[0mself\u001b[0m\u001b[0;34m.\u001b[0m\u001b[0mmogrify\u001b[0m\u001b[0;34m(\u001b[0m\u001b[0mquery\u001b[0m\u001b[0;34m,\u001b[0m \u001b[0margs\u001b[0m\u001b[0;34m)\u001b[0m\u001b[0;34m\u001b[0m\u001b[0;34m\u001b[0m\u001b[0m\n\u001b[1;32m    157\u001b[0m \u001b[0;34m\u001b[0m\u001b[0m\n\u001b[0;32m--> 158\u001b[0;31m         \u001b[0mresult\u001b[0m \u001b[0;34m=\u001b[0m \u001b[0mself\u001b[0m\u001b[0;34m.\u001b[0m\u001b[0m_query\u001b[0m\u001b[0;34m(\u001b[0m\u001b[0mquery\u001b[0m\u001b[0;34m)\u001b[0m\u001b[0;34m\u001b[0m\u001b[0;34m\u001b[0m\u001b[0m\n\u001b[0m\u001b[1;32m    159\u001b[0m         \u001b[0mself\u001b[0m\u001b[0;34m.\u001b[0m\u001b[0m_executed\u001b[0m \u001b[0;34m=\u001b[0m \u001b[0mquery\u001b[0m\u001b[0;34m\u001b[0m\u001b[0;34m\u001b[0m\u001b[0m\n\u001b[1;32m    160\u001b[0m         \u001b[0;32mreturn\u001b[0m \u001b[0mresult\u001b[0m\u001b[0;34m\u001b[0m\u001b[0;34m\u001b[0m\u001b[0m\n",
      "\u001b[0;32m/usr/local/lib/python3.10/dist-packages/pymysql/cursors.py\u001b[0m in \u001b[0;36m_query\u001b[0;34m(self, q)\u001b[0m\n\u001b[1;32m    323\u001b[0m         \u001b[0mconn\u001b[0m \u001b[0;34m=\u001b[0m \u001b[0mself\u001b[0m\u001b[0;34m.\u001b[0m\u001b[0m_get_db\u001b[0m\u001b[0;34m(\u001b[0m\u001b[0;34m)\u001b[0m\u001b[0;34m\u001b[0m\u001b[0;34m\u001b[0m\u001b[0m\n\u001b[1;32m    324\u001b[0m         \u001b[0mself\u001b[0m\u001b[0;34m.\u001b[0m\u001b[0m_clear_result\u001b[0m\u001b[0;34m(\u001b[0m\u001b[0;34m)\u001b[0m\u001b[0;34m\u001b[0m\u001b[0;34m\u001b[0m\u001b[0m\n\u001b[0;32m--> 325\u001b[0;31m         \u001b[0mconn\u001b[0m\u001b[0;34m.\u001b[0m\u001b[0mquery\u001b[0m\u001b[0;34m(\u001b[0m\u001b[0mq\u001b[0m\u001b[0;34m)\u001b[0m\u001b[0;34m\u001b[0m\u001b[0;34m\u001b[0m\u001b[0m\n\u001b[0m\u001b[1;32m    326\u001b[0m         \u001b[0mself\u001b[0m\u001b[0;34m.\u001b[0m\u001b[0m_do_get_result\u001b[0m\u001b[0;34m(\u001b[0m\u001b[0;34m)\u001b[0m\u001b[0;34m\u001b[0m\u001b[0;34m\u001b[0m\u001b[0m\n\u001b[1;32m    327\u001b[0m         \u001b[0;32mreturn\u001b[0m \u001b[0mself\u001b[0m\u001b[0;34m.\u001b[0m\u001b[0mrowcount\u001b[0m\u001b[0;34m\u001b[0m\u001b[0;34m\u001b[0m\u001b[0m\n",
      "\u001b[0;32m/usr/local/lib/python3.10/dist-packages/pymysql/connections.py\u001b[0m in \u001b[0;36mquery\u001b[0;34m(self, sql, unbuffered)\u001b[0m\n\u001b[1;32m    546\u001b[0m         \u001b[0;32mif\u001b[0m \u001b[0misinstance\u001b[0m\u001b[0;34m(\u001b[0m\u001b[0msql\u001b[0m\u001b[0;34m,\u001b[0m \u001b[0mstr\u001b[0m\u001b[0;34m)\u001b[0m\u001b[0;34m:\u001b[0m\u001b[0;34m\u001b[0m\u001b[0;34m\u001b[0m\u001b[0m\n\u001b[1;32m    547\u001b[0m             \u001b[0msql\u001b[0m \u001b[0;34m=\u001b[0m \u001b[0msql\u001b[0m\u001b[0;34m.\u001b[0m\u001b[0mencode\u001b[0m\u001b[0;34m(\u001b[0m\u001b[0mself\u001b[0m\u001b[0;34m.\u001b[0m\u001b[0mencoding\u001b[0m\u001b[0;34m,\u001b[0m \u001b[0;34m\"surrogateescape\"\u001b[0m\u001b[0;34m)\u001b[0m\u001b[0;34m\u001b[0m\u001b[0;34m\u001b[0m\u001b[0m\n\u001b[0;32m--> 548\u001b[0;31m         \u001b[0mself\u001b[0m\u001b[0;34m.\u001b[0m\u001b[0m_execute_command\u001b[0m\u001b[0;34m(\u001b[0m\u001b[0mCOMMAND\u001b[0m\u001b[0;34m.\u001b[0m\u001b[0mCOM_QUERY\u001b[0m\u001b[0;34m,\u001b[0m \u001b[0msql\u001b[0m\u001b[0;34m)\u001b[0m\u001b[0;34m\u001b[0m\u001b[0;34m\u001b[0m\u001b[0m\n\u001b[0m\u001b[1;32m    549\u001b[0m         \u001b[0mself\u001b[0m\u001b[0;34m.\u001b[0m\u001b[0m_affected_rows\u001b[0m \u001b[0;34m=\u001b[0m \u001b[0mself\u001b[0m\u001b[0;34m.\u001b[0m\u001b[0m_read_query_result\u001b[0m\u001b[0;34m(\u001b[0m\u001b[0munbuffered\u001b[0m\u001b[0;34m=\u001b[0m\u001b[0munbuffered\u001b[0m\u001b[0;34m)\u001b[0m\u001b[0;34m\u001b[0m\u001b[0;34m\u001b[0m\u001b[0m\n\u001b[1;32m    550\u001b[0m         \u001b[0;32mreturn\u001b[0m \u001b[0mself\u001b[0m\u001b[0;34m.\u001b[0m\u001b[0m_affected_rows\u001b[0m\u001b[0;34m\u001b[0m\u001b[0;34m\u001b[0m\u001b[0m\n",
      "\u001b[0;32m/usr/local/lib/python3.10/dist-packages/pymysql/connections.py\u001b[0m in \u001b[0;36m_execute_command\u001b[0;34m(self, command, sql)\u001b[0m\n\u001b[1;32m    795\u001b[0m         \"\"\"\n\u001b[1;32m    796\u001b[0m         \u001b[0;32mif\u001b[0m \u001b[0;32mnot\u001b[0m \u001b[0mself\u001b[0m\u001b[0;34m.\u001b[0m\u001b[0m_sock\u001b[0m\u001b[0;34m:\u001b[0m\u001b[0;34m\u001b[0m\u001b[0;34m\u001b[0m\u001b[0m\n\u001b[0;32m--> 797\u001b[0;31m             \u001b[0;32mraise\u001b[0m \u001b[0merr\u001b[0m\u001b[0;34m.\u001b[0m\u001b[0mInterfaceError\u001b[0m\u001b[0;34m(\u001b[0m\u001b[0;36m0\u001b[0m\u001b[0;34m,\u001b[0m \u001b[0;34m\"\"\u001b[0m\u001b[0;34m)\u001b[0m\u001b[0;34m\u001b[0m\u001b[0;34m\u001b[0m\u001b[0m\n\u001b[0m\u001b[1;32m    798\u001b[0m \u001b[0;34m\u001b[0m\u001b[0m\n\u001b[1;32m    799\u001b[0m         \u001b[0;31m# If the last query was unbuffered, make sure it finishes before\u001b[0m\u001b[0;34m\u001b[0m\u001b[0;34m\u001b[0m\u001b[0m\n",
      "\u001b[0;31mInterfaceError\u001b[0m: (0, '')"
     ]
    }
   ],
   "source": [
    "# Read the CSV file and write the different fields in the \"table\" variable in Sql.\n",
    "\n",
    "# Define the table name\n",
    "table_name = \"predict_marketing_campaign\"\n",
    "\n",
    "\n",
    "yes_no_map = {\"yes\": 1, \"no\": 0}\n",
    "\n",
    "# Open the CSV file\n",
    "with open('/content/Mydrive/MyDrive/bank-full.csv', 'r') as file:\n",
    "    # Skip the header row\n",
    "    header=next(file)\n",
    "    #print(header)\n",
    "    # Iterate over the rows in the CSV file\n",
    "    for line in file:\n",
    "        # Extract the values from the row\n",
    "        row = line.strip().split(';')\n",
    "        \n",
    "        age = int(row[0].strip('\"'))\n",
    "        job = row[1].strip('\"')\n",
    "        marital = row[2].strip('\"')\n",
    "        education = row[3].strip('\"')\n",
    "        isdefault = 1 if row[4].strip('\"').lower() == \"yes\" else 0\n",
    "        balance = int(row[5].strip('\"'))\n",
    "        housing = yes_no_map[row[6].strip('\"').lower()]\n",
    "        loan = yes_no_map[row[7].strip('\"').lower()]\n",
    "        contact = row[8].strip('\"')\n",
    "        day = int(row[9].strip('\"'))\n",
    "        month = row[10].strip('\"')\n",
    "        duration = int(row[11].strip('\"'))\n",
    "        campaign = int(row[12].strip('\"'))\n",
    "        pdays = int(row[13].strip('\"'))\n",
    "        previous = int(row[14].strip('\"'))\n",
    "        poutcome = row[15].strip('\"')\n",
    "        subscription = yes_no_map[row[16].strip('\"').lower()]\n",
    "        \n",
    "        # Convert job, marital, education, and poutcome to the corresponding integer values\n",
    "        job_is_employee = 1 if job == \"employee\" else 0\n",
    "        job_is_entrepreneur = 1 if job == \"entrepreneur\" else 0\n",
    "        job_is_manager = 1 if job == \"manager\" else 0\n",
    "        job_is_retired = 1 if job == \"retired\" else 0\n",
    "        job_is_student = 1 if job == \"student\" else 0\n",
    "        job_is_unemployed = 1 if job == \"unemployed\" else 0\n",
    "        \n",
    "        marital_is_married = 1 if marital == \"married\" else 0\n",
    "        marital_is_single = 1 if marital == \"single\" else 0\n",
    "        marital_is_divorced = 1 if marital == \"divorced\" else 0\n",
    "        \n",
    "        education_is_tertiary = 1 if education == \"tertiary\" else 0\n",
    "        education_is_secondary = 1 if education == \"secondary\" else 0\n",
    "        education_is_primary = 1 if education == \"primary\" else 0\n",
    "        education_is_unknown = 1 if education == \"unknown\" else 0\n",
    "        \n",
    "        poutcome_is_failure = 1 if poutcome == \"failure\" else 0\n",
    "        poutcome_is_success = 1 if poutcome == \"success\" else 0\n",
    "        poutcome_is_unknown = 1 if poutcome == \"unknown\" else 0\n",
    "        \n",
    "        # Create the SQL INSERT statement\n",
    "        insert_query = f\"\"\"\n",
    "        INSERT INTO {table_name} (\n",
    "            age, job_is_employee, job_is_entrepreneur, job_is_manager, job_is_retired,\n",
    "            job_is_student, job_is_unemployed, marital_is_married, marital_is_single,\n",
    "            marital_is_divorced, education_is_tertiary, education_is_secondary,\n",
    "            education_is_primary, education_is_unknown, poutcome_is_failure,\n",
    "            poutcome_is_success, poutcome_is_unknown,isdefault, balance, housing, loan,\n",
    "            duration, campaign, previous, subscription\n",
    "        ) VALUES (\n",
    "            {age}, {job_is_employee}, {job_is_entrepreneur}, {job_is_manager},\n",
    "            {job_is_retired}, {job_is_student}, {job_is_unemployed}, {marital_is_married},\n",
    "            {marital_is_single}, {marital_is_divorced}, {education_is_tertiary},\n",
    "            {education_is_secondary}, {education_is_primary}, {education_is_unknown},\n",
    "            {poutcome_is_failure}, {poutcome_is_success}, {poutcome_is_unknown},\n",
    "            {isdefault}, {balance}, {housing}, {loan}, {duration}, {campaign}, {previous},\n",
    "            {subscription}\n",
    "        );\n",
    "        \"\"\"\n",
    "        \n",
    "        # Execute the insert query\n",
    "        cursor.execute(insert_query)\n",
    "    \n",
    "        # Commit the changes to the database\n",
    "        connection.commit()\n"
   ]
  },
  {
   "cell_type": "markdown",
   "metadata": {
    "id": "YaOgWGu0ge_4"
   },
   "source": [
    "## A.2 Print the number of documents in the table, and print **one** entry of the table.\n",
    "\n",
    "*1 POINT*"
   ]
  },
  {
   "cell_type": "code",
   "execution_count": 26,
   "metadata": {
    "colab": {
     "base_uri": "https://localhost:8080/"
    },
    "id": "L-lRAI79gmXN",
    "outputId": "63d36a2b-0603-413c-99d8-b7e20ed2b049"
   },
   "outputs": [
    {
     "name": "stdout",
     "output_type": "stream",
     "text": [
      "Number of documents: 45234\n"
     ]
    }
   ],
   "source": [
    "# print the number of documents\n",
    "\n",
    "# Execute a SELECT query to count the number of rows in the table\n",
    "cursor.execute(f\"SELECT COUNT(*) FROM {table_name}\")\n",
    "\n",
    "# Fetch the result\n",
    "result = cursor.fetchone()\n",
    "\n",
    "# Get the count value from the result\n",
    "document_count = result[0]\n",
    "\n",
    "# Print the number of documents\n",
    "print(f\"Number of documents: {document_count}\")\n"
   ]
  },
  {
   "cell_type": "code",
   "execution_count": 27,
   "metadata": {
    "colab": {
     "base_uri": "https://localhost:8080/"
    },
    "id": "5Eok6oGxgmdf",
    "outputId": "2fd706f1-096e-45e7-cee3-83e6e66de140"
   },
   "outputs": [
    {
     "name": "stdout",
     "output_type": "stream",
     "text": [
      "{'age': 58, 'job_is_employee': 0, 'job_is_entrepreneur': 0, 'job_is_manager': 0, 'job_is_retired': 0, 'job_is_student': 0, 'job_is_unemployed': 0, 'marital_is_married': 1, 'marital_is_single': 0, 'marital_is_divorced': 0, 'education_is_tertiary': 1, 'education_is_secondary': 0, 'education_is_primary': 0, 'education_is_unknown': 0, 'poutcome_is_failure': 0, 'poutcome_is_success': 0, 'poutcome_is_unknown': 1, 'isdefault': 0, 'balance': 2143, 'housing': 1, 'loan': 0, 'duration': 261, 'campaign': 1, 'previous': 0, 'subscription': 0}\n"
     ]
    }
   ],
   "source": [
    "# print one entry of the table\n",
    "\n",
    "# Execute a SELECT query to fetch one row from the table\n",
    "cursor.execute(f\"SELECT * FROM {table_name} LIMIT 1\")\n",
    "\n",
    "# Fetch the column names from the cursor's description\n",
    "column_names = [desc[0] for desc in cursor.description]\n",
    "\n",
    "# Fetch the first row from the result set\n",
    "row = cursor.fetchone()\n",
    "\n",
    "# Combine the column names with the row data\n",
    "entry = dict(zip(column_names, row))\n",
    "\n",
    "# Print the entry\n",
    "print(entry)\n"
   ]
  },
  {
   "cell_type": "markdown",
   "metadata": {
    "id": "-DbWVzvrcLGx"
   },
   "source": [
    "You should have similar results when you print one entry of the table if you used MongoDB:"
   ]
  },
  {
   "cell_type": "markdown",
   "metadata": {
    "id": "_3_DfX1DcExd"
   },
   "source": [
    "![Screenshot 2023-04-16 112147.png](data:image/png;base64,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)"
   ]
  },
  {
   "cell_type": "markdown",
   "metadata": {
    "id": "vvNZ3xaS8IpS"
   },
   "source": [
    "# B. Data Exploration"
   ]
  },
  {
   "cell_type": "markdown",
   "metadata": {
    "id": "XwemQx_G8IpT"
   },
   "source": [
    "## B.1 Which variable will you use as output value to perform the supervised learning task?\n",
    "\n",
    "*1 POINT*\n",
    "\n",
    "Just name it."
   ]
  },
  {
   "cell_type": "markdown",
   "metadata": {
    "id": "BzGDwdo9hVcC"
   },
   "source": [
    "subscription"
   ]
  },
  {
   "cell_type": "markdown",
   "metadata": {
    "id": "QasoWBgdhJ42"
   },
   "source": [
    "## B.2 Create a list of strings named variables containing features to include in your model\n",
    "\n",
    "*1 POINT*\n",
    "\n",
    "Select all features from the MongoDB table that can be used as input in sklearn."
   ]
  },
  {
   "cell_type": "code",
   "execution_count": 28,
   "metadata": {
    "colab": {
     "base_uri": "https://localhost:8080/"
    },
    "id": "UxZQkZllhKJr",
    "outputId": "fae934a4-80c8-43bc-a76e-305bdba9da8b"
   },
   "outputs": [
    {
     "name": "stdout",
     "output_type": "stream",
     "text": [
      "['age', 'job_is_employee', 'job_is_entrepreneur', 'job_is_manager', 'job_is_retired', 'job_is_student', 'job_is_unemployed', 'marital_is_married', 'marital_is_single', 'marital_is_divorced', 'education_is_tertiary', 'education_is_secondary', 'education_is_primary', 'education_is_unknown', 'poutcome_is_failure', 'poutcome_is_success', 'poutcome_is_unknown', 'isdefault', 'balance', 'housing', 'loan', 'duration', 'campaign', 'previous']\n"
     ]
    }
   ],
   "source": [
    "# Execute a SQL query to fetch the column names from the table\n",
    "cursor.execute(f\"SELECT COLUMN_NAME FROM INFORMATION_SCHEMA.COLUMNS WHERE TABLE_NAME = '{table_name}';\")\n",
    "\n",
    "# Fetch all the column names from the result set\n",
    "column_names = cursor.fetchall()\n",
    "\n",
    "# Extract the column names from the fetched data\n",
    "variables = [column[0] for column in column_names if column[0] != \"subscription\"]\n",
    "\n",
    "# Print the selected features\n",
    "print(variables)\n"
   ]
  },
  {
   "cell_type": "markdown",
   "metadata": {
    "id": "08F_LifVgD80"
   },
   "source": [
    "## B.3 Perform an exploratory data analysis on the given CSV file\n",
    "\n",
    "*2 POINTS*\n",
    "\n",
    "Choose two different variables:\n",
    "- One integer variable and compute its average value when subscription = 1 and when subscription = 0. Do that using MongoDB.\n",
    "- One boolean variable (values 0 or 1) and compute its average value when subscription = 1 and when subscription = 0. Do that using MongoDB.\n",
    "\n",
    "NB: Yes, all variables should be integer, but some variables are only 0 or 1, that's the boolean variables we're refering to here!\n",
    "\n",
    "**Comment the results (one line for each variable is enough) you have for each variable.**"
   ]
  },
  {
   "cell_type": "code",
   "execution_count": 9,
   "metadata": {
    "colab": {
     "base_uri": "https://localhost:8080/"
    },
    "id": "SvHr1lGUjPMy",
    "outputId": "1fcce651-67b3-4906-c3ff-1c31ee7e9856"
   },
   "outputs": [
    {
     "name": "stdout",
     "output_type": "stream",
     "text": [
      "Average duration for subscribed users: 537.2946\n",
      "Average duration for non-subscribed users: 221.1578\n"
     ]
    }
   ],
   "source": [
    "# MongoDB query for the integer variable\n",
    "# Execute a query to compute the average value of an integer variable based on subscription\n",
    "cursor.execute(\"SELECT AVG(duration) FROM predict_marketing_campaign WHERE subscription = 1;\")\n",
    "average_duration_subscribed = cursor.fetchone()[0]\n",
    "cursor.execute(\"SELECT AVG(duration) FROM predict_marketing_campaign WHERE subscription = 0;\")\n",
    "average_duration_not_subscribed = cursor.fetchone()[0]\n",
    "\n",
    "print(f\"Average duration for subscribed users: {average_duration_subscribed}\")\n",
    "print(f\"Average duration for non-subscribed users: {average_duration_not_subscribed}\")\n"
   ]
  },
  {
   "cell_type": "markdown",
   "metadata": {
    "id": "EugS7FxFjTh7"
   },
   "source": [
    "The average duration for subscribed users is 537.2946, while the average duration for non-subscribed users is 221.1828. This suggests that, on average, the duration of contact with subscribed users is significantly higher than that of non-subscribed users. "
   ]
  },
  {
   "cell_type": "code",
   "execution_count": 10,
   "metadata": {
    "colab": {
     "base_uri": "https://localhost:8080/"
    },
    "id": "YAQl7esfjTpq",
    "outputId": "ef39eff2-bb53-4b2f-e999-5bf97446f7d7"
   },
   "outputs": [
    {
     "name": "stdout",
     "output_type": "stream",
     "text": [
      "Average housing for subscribed users: 0.3659\n",
      "Average housing for non-subscribed users: 0.5812\n"
     ]
    }
   ],
   "source": [
    "# MongoDB query for the boolean variable\n",
    "# Execute a query to compute the average value of a boolean variable based on subscription\n",
    "cursor.execute(\"SELECT AVG(housing) FROM predict_marketing_campaign WHERE subscription = 1;\")\n",
    "average_housing_subscribed = cursor.fetchone()[0]\n",
    "\n",
    "cursor.execute(\"SELECT AVG(housing) FROM predict_marketing_campaign WHERE subscription = 0;\")\n",
    "average_housing_not_subscribed = cursor.fetchone()[0]\n",
    "\n",
    "print(f\"Average housing for subscribed users: {average_housing_subscribed}\")\n",
    "print(f\"Average housing for non-subscribed users: {average_housing_not_subscribed}\")"
   ]
  },
  {
   "cell_type": "markdown",
   "metadata": {
    "id": "qJzSYgDxjTyM"
   },
   "source": [
    "Comment here for the boolean variable.\n",
    "\n",
    ">This suggests that subscribed users are less likely to have a housing loan compared to non-subscribed users. The lower average housing value for subscribed users indicates a higher proportion of individuals without a housing loan in that group.\n",
    "\n"
   ]
  },
  {
   "cell_type": "markdown",
   "metadata": {
    "id": "lNI1aZTRgBnp"
   },
   "source": [
    "# C. Data Preparation"
   ]
  },
  {
   "cell_type": "markdown",
   "metadata": {
    "id": "cnNQaKFB8IpU"
   },
   "source": [
    "## C.1 Complete the following code to generate a training sample and a testing sample, using a 50/50 split ratio\n",
    "\n",
    "*1 POINT*"
   ]
  },
  {
   "cell_type": "code",
   "execution_count": 7,
   "metadata": {
    "colab": {
     "base_uri": "https://localhost:8080/"
    },
    "id": "bL-l2pyA8IpU",
    "outputId": "ffd05ee2-ddea-47f6-f64b-49500ef94400"
   },
   "outputs": [
    {
     "name": "stdout",
     "output_type": "stream",
     "text": [
      "Training sample size: 22617\n",
      "Testing sample size: 22617\n"
     ]
    }
   ],
   "source": [
    "import random\n",
    "\n",
    "# Create empty lists for training and testing samples\n",
    "features_train = []\n",
    "target_train = []\n",
    "features_test = []\n",
    "target_test = []\n",
    "\n",
    "# Fetch all rows from the table\n",
    "cursor.execute(\"SELECT * FROM predict_marketing_campaign\")\n",
    "rows = cursor.fetchall()\n",
    "\n",
    "# Convert tuples to lists\n",
    "rows = list(rows)\n",
    "\n",
    "# Shuffle the rows randomly\n",
    "random.shuffle(rows)\n",
    "\n",
    "# Iterate over the rows\n",
    "for count, row in enumerate(rows):\n",
    "    # Extract the features and target value from the row\n",
    "    call_features = list(row[:-1])\n",
    "    target = row[-1]\n",
    "\n",
    "    if None not in row and '' not in call_features:\n",
    "        if count % 2 != 0:  # Use 2 for a 50/50 split ratio\n",
    "            features_train.append(call_features)\n",
    "            target_train.append(target)\n",
    "        else:\n",
    "            features_test.append(call_features)\n",
    "            target_test.append(target)\n",
    "\n",
    "# Print the sizes of the training and testing samples\n",
    "print(\"Training sample size:\", len(features_train))\n",
    "print(\"Testing sample size:\", len(features_test))\n"
   ]
  },
  {
   "cell_type": "markdown",
   "metadata": {
    "id": "ehr5zj8K8IpU"
   },
   "source": [
    "## C.2 Explain why we use training and testing samples in supervised learning tasks ?\n",
    "\n",
    "*2 POINTS*"
   ]
  },
  {
   "cell_type": "markdown",
   "metadata": {
    "id": "AL_PT1MWhkDO"
   },
   "source": [
    "Give your answer here."
   ]
  },
  {
   "cell_type": "markdown",
   "metadata": {
    "id": "_MYtVBHscXr8"
   },
   "source": [
    "## C.3 Explain the trade-off between the size of training and testing samples. How do you think the choice of the split ratio could affect the model's performance and generalization capabilities?\n",
    "\n",
    "*2 POINTS*"
   ]
  },
  {
   "cell_type": "markdown",
   "metadata": {
    "id": "U0rRL5XIcXyb"
   },
   "source": [
    "In supervised learning tasks, we use training and testing samples to evaluate the performance and generalization ability of our machine learning models. The training sample is used to train the model by exposing it to labeled data, where we have both input features and their corresponding output or target values. During training, the model learns patterns and relationships between the input features and the target values, adjusting its internal parameters to make accurate predictions.\n",
    "\n",
    "Once the model is trained, we evaluate its performance using the testing sample. This sample serves as an independent set of data that the model has not seen during training. It consists of input features and their corresponding target values, but the target values are withheld from the model during testing. The trained model predicts the target values for the input features in the testing sample, and these predictions are compared with the actual target values to assess the model's accuracy and generalization ability.\n",
    "\n",
    "The use of training and testing samples is crucial for several reasons. First, the testing sample provides an unbiased evaluation of how well the model performs on unseen data. It allows us to measure the model's accuracy, precision, recall, F1 score, and other evaluation metrics, providing insights into its performance in real-world scenarios.\n",
    "\n",
    "Second, the testing sample helps us assess the model's generalization ability. The ultimate goal of supervised learning is to build a model that can generalize well to unseen data. By evaluating the model on an independent sample, we can determine if it has learned the underlying patterns and relationships in the data or if it has simply memorized the training examples.\n",
    "\n",
    "Furthermore, the testing sample helps in detecting overfitting, which occurs when a model performs exceptionally well on the training data but fails to generalize to new data. By evaluating the model on the testing sample, we can detect overfitting. If the model has high accuracy on the training sample but significantly lower accuracy on the testing sample, it suggests overfitting, indicating that the model has captured noise or irrelevant patterns from the training data instead of the underlying relationships.\n",
    "\n",
    "Splitting the data into training and testing samples allows us to assess the model's performance, ensure its generalization ability, and detect potential issues like overfitting. It helps us build more robust and reliable machine learning models that can make accurate predictions on unseen data."
   ]
  },
  {
   "cell_type": "markdown",
   "metadata": {
    "id": "4SZPS7tfcFEl"
   },
   "source": [
    "## C.4 Discuss the importance of randomization when splitting the dataset into training and testing samples. Give a situation (not necessarily in this project) where potential issues might arise if the data is not randomized and we define the training set as the first half of the dataset, and the testing set as the second half of the dataset?\n",
    "\n",
    "*2 POINTS*"
   ]
  },
  {
   "cell_type": "markdown",
   "metadata": {
    "id": "fFM1nDwchtGe"
   },
   "source": [
    "Randomization is of utmost importance when splitting a dataset into training and testing samples in supervised learning tasks. By randomizing the data, we ensure that the resulting training and testing sets are representative of the overall dataset and do not introduce any systematic biases or patterns.\n",
    "\n",
    "Failing to randomize the data and instead defining the training set as the first half of the dataset and the testing set as the second half can lead to significant issues. One potential problem is the presence of time-dependent patterns in the data. If the dataset has a temporal or sequential nature, such as a time series dataset, the first half of the data would represent earlier time periods while the second half would represent later time periods. This would result in training the model on past data and evaluating it on future data, which can lead to poor generalization and inaccurate performance assessment.\n",
    "\n",
    "Another issue arises from the ordering of samples in the dataset. If the data has any inherent order or structure, such as sorted or grouped samples, splitting it without randomization would preserve this order in the training and testing sets. As a consequence, the model would be exposed to certain patterns or variations during training while missing others, leading to biased model training and unreliable performance evaluation.\n",
    "\n",
    "Furthermore, not randomizing the data can result in covariate shift, where the distribution of input features differs between the training and testing datasets. If the data exhibits systematic variations or patterns in the input features and the split is not randomized, the training and testing sets may have significantly different feature distributions. This discrepancy can hinder the model's ability to generalize well to unseen data, as it may not learn to handle the variations present in the testing set due to the biased training data."
   ]
  },
  {
   "cell_type": "markdown",
   "metadata": {
    "id": "0PC-pGM68IpV"
   },
   "source": [
    "# D. Decision Trees\n",
    "\n",
    "The first model we'll look into is the Decision Tree model."
   ]
  },
  {
   "cell_type": "markdown",
   "metadata": {
    "id": "xUp1sLTVjupx"
   },
   "source": [
    "## D.1 Explain the concept of entropy and information gain in the context of decision trees. How do these concepts help in selecting the best attributes for splitting the tree nodes?\n",
    "\n",
    "*2 POINTS*"
   ]
  },
  {
   "cell_type": "markdown",
   "metadata": {
    "id": "TH49za1qj2dS"
   },
   "source": [
    "In the context of decision trees, entropy is a measure of impurity or disorder within a set of data. It quantifies the amount of uncertainty or randomness present in the target variable. Entropy is calculated using the probabilities of different classes within the data. A higher entropy value indicates higher impurity and more uncertainty, while a lower entropy value indicates lower impurity and greater homogeneity within the data.\n",
    "\n",
    "Information gain, on the other hand, is a concept that measures the reduction in entropy achieved by splitting the data based on a particular attribute. It quantifies the amount of useful information gained by using a specific attribute to partition the data. Information gain is calculated by comparing the entropy of the parent node before splitting with the weighted average entropy of the child nodes after the split. The attribute that results in the highest information gain is chosen as the best attribute for splitting the tree nodes.\n",
    "\n",
    "The concept of entropy and information gain play a crucial role in decision tree learning. The goal of a decision tree is to find the most informative attributes that lead to the most accurate predictions. By evaluating the entropy and information gain, decision trees can assess the quality of different attributes for splitting the tree nodes. Attributes that result in a higher information gain effectively reduce the entropy and increase the homogeneity of the data within each resulting subset. This leads to more distinct and accurate decision boundaries, enabling the decision tree to make better predictions."
   ]
  },
  {
   "cell_type": "markdown",
   "metadata": {
    "id": "Q0akp27B8IpV"
   },
   "source": [
    "## D.2 Train a decision tree on the training sample\n",
    "\n",
    "*1 POINT*\n",
    "\n",
    "- using entropy to measure the quality of a split\n",
    "- having a maximum depth of 1\n",
    "- requiring at least 0.5% of the sample to split an internal node"
   ]
  },
  {
   "cell_type": "code",
   "execution_count": 12,
   "metadata": {
    "id": "gwDzPPWa8IpY"
   },
   "outputs": [],
   "source": [
    "clf = tree.DecisionTreeClassifier(criterion='entropy', max_depth=1, min_samples_split=0.005)\n",
    "clf_fit = clf.fit(features_train, target_train)"
   ]
  },
  {
   "cell_type": "markdown",
   "metadata": {
    "id": "xgl1ZWrt8IpY"
   },
   "source": [
    "**Run the following lines to visualise the results**"
   ]
  },
  {
   "cell_type": "code",
   "execution_count": 13,
   "metadata": {
    "colab": {
     "base_uri": "https://localhost:8080/",
     "height": 237
    },
    "id": "6DciNzATiOkz",
    "outputId": "8216d1ca-e45c-496c-c6eb-bf2799af4c8b"
   },
   "outputs": [
    {
     "data": {
      "image/png": "[encoded data removed]",
      "text/plain": [
       "<IPython.core.display.Image object>"
      ]
     },
     "execution_count": 13,
     "metadata": {},
     "output_type": "execute_result"
    }
   ],
   "source": [
    "tree.export_graphviz(clf_fit, out_file=\"tree.dot\", feature_names=variables)\n",
    "graph = pydotplus.graphviz.graph_from_dot_file(\"tree.dot\")\n",
    "Image(graph.create_png())"
   ]
  },
  {
   "cell_type": "markdown",
   "metadata": {
    "id": "33S-7dO6iTW6"
   },
   "source": [
    "## D.3 For which subsample will the decision tree show the best predictive accuracy?\n",
    "\n",
    "*2 POINTS*\n",
    "\n",
    "Answer must be 'left subsample' or 'right subsample'"
   ]
  },
  {
   "cell_type": "markdown",
   "metadata": {
    "id": "IvBBUKyxiUVf"
   },
   "source": [
    "left subsample"
   ]
  },
  {
   "cell_type": "markdown",
   "metadata": {
    "id": "kcoR6xy68IpZ"
   },
   "source": [
    "## D.4 What will be training accuracy for the subsample containing the least number of observation\n",
    "\n",
    "*2 POINTS*"
   ]
  },
  {
   "cell_type": "markdown",
   "metadata": {
    "id": "9bJp2gRpefT5"
   },
   "source": [
    "The training accuracy for the subsample containing the least number of observations (right subsample) will be calculated as follows:\n",
    "\n",
    "Training Accuracy = Number of correct predictions / Total number of observations\n",
    "\n",
    "From the given information:\n",
    "\n",
    "For the right subsample, the total number of observations is 4578.\n",
    "The value array for the right subsample is [3061, 1517], indicating the count of correct predictions and incorrect predictions, respectively.\n",
    "Therefore, the number of correct predictions for the right subsample is 3061.\n",
    "\n",
    "Training Accuracy = 3061 / 4578 ≈ 0.6685\n",
    "\n",
    "The training accuracy for the subsample containing the least number of observations is approximately 0.6685 or 66.85%."
   ]
  },
  {
   "cell_type": "markdown",
   "metadata": {
    "id": "M06AM6Q98IpZ"
   },
   "source": [
    "## D.5 Will this decision tree be effective in predicting highest potential clients?\n",
    "\n",
    "*2 POINTS*\n",
    "\n",
    "Explain your answer"
   ]
  },
  {
   "cell_type": "markdown",
   "metadata": {
    "id": "Q8LVpwWgic8A"
   },
   "source": [
    "\n",
    "No, this decision tree may not be effective in predicting the highest potential clients. The decision tree's effectiveness depends on various factors such as the quality of the features, the complexity of the problem, and the available data.\n",
    "\n",
    "In this case, the decision tree has a maximum depth of 1, meaning it can only make one split based on a single feature. This limited depth may not capture the underlying patterns and relationships in the data adequately. Additionally, the decision tree is trained on a specific subsample of the data, which may not be representative of the entire dataset.\n",
    "\n",
    "To accurately predict the highest potential clients, it is essential to consider more complex models and incorporate a broader set of relevant features. A decision tree with a maximum depth of 1 may not have sufficient complexity to capture the nuanced patterns and interactions that determine the highest potential clients. Therefore, a more sophisticated machine learning algorithm or ensemble methods like random forests or gradient boosting would be more appropriate for this task."
   ]
  },
  {
   "cell_type": "markdown",
   "metadata": {
    "id": "hUOZ-SJG8IpZ"
   },
   "source": [
    "## D.6 Complete the following code to evaluate decision tree predictive accuracy over complexity.\n",
    "\n",
    "*1 POINT*\n",
    "\n",
    "- train several decision trees with maximum depths from 1 to 20\n",
    "- compute both training and testing accuracies for each maximum depth and store them in lists\n",
    "- use entropy to measure the quality of a split\n",
    "- require at least 0.5% of the sample to split an internal node"
   ]
  },
  {
   "cell_type": "code",
   "execution_count": 22,
   "metadata": {
    "colab": {
     "base_uri": "https://localhost:8080/"
    },
    "id": "4eXsQ-3N8IpZ",
    "outputId": "0c71ba87-9f2d-4c0f-ff0d-898638e8b5c9"
   },
   "outputs": [
    {
     "name": "stdout",
     "output_type": "stream",
     "text": [
      "Index: 1\n",
      "Training Accuracy (max_depth=1): 0.8827430693725958\n",
      "Testing Accuracy (max_depth=1): 0.8834062873060088\n",
      "Index: 2\n",
      "Training Accuracy (max_depth=2): 0.8876066675509573\n",
      "Testing Accuracy (max_depth=2): 0.8914533315647521\n",
      "Index: 3\n",
      "Training Accuracy (max_depth=3): 0.8991466595923421\n",
      "Testing Accuracy (max_depth=3): 0.901401600565946\n",
      "Index: 4\n",
      "Training Accuracy (max_depth=4): 0.9001193792280143\n",
      "Testing Accuracy (max_depth=4): 0.9024185347305125\n",
      "Index: 5\n",
      "Training Accuracy (max_depth=5): 0.9002962373435911\n",
      "Testing Accuracy (max_depth=5): 0.9014900296237344\n",
      "Index: 6\n",
      "Training Accuracy (max_depth=6): 0.9016226732104169\n",
      "Testing Accuracy (max_depth=6): 0.9019321749126763\n",
      "Index: 7\n",
      "Training Accuracy (max_depth=7): 0.9029933236061369\n",
      "Testing Accuracy (max_depth=7): 0.9010036698058982\n",
      "Index: 8\n",
      "Training Accuracy (max_depth=8): 0.9048061192907989\n",
      "Testing Accuracy (max_depth=8): 0.9010478843347924\n",
      "Index: 9\n",
      "Training Accuracy (max_depth=9): 0.9057788389264713\n",
      "Testing Accuracy (max_depth=9): 0.9000309501702259\n",
      "Index: 10\n",
      "Training Accuracy (max_depth=10): 0.9069726312066145\n",
      "Testing Accuracy (max_depth=10): 0.8989698014767653\n",
      "Index: 11\n",
      "Training Accuracy (max_depth=11): 0.90776849272671\n",
      "Testing Accuracy (max_depth=11): 0.8983065835433524\n",
      "Index: 12\n",
      "Training Accuracy (max_depth=12): 0.9086969978334881\n",
      "Testing Accuracy (max_depth=12): 0.8975107220232569\n",
      "Index: 13\n",
      "Training Accuracy (max_depth=13): 0.9095370738824777\n",
      "Testing Accuracy (max_depth=13): 0.8970243622054207\n",
      "Index: 14\n",
      "Training Accuracy (max_depth=14): 0.9101118627581023\n",
      "Testing Accuracy (max_depth=14): 0.8973780784365742\n",
      "Index: 15\n",
      "Training Accuracy (max_depth=15): 0.9103329354025733\n",
      "Testing Accuracy (max_depth=15): 0.8966706459742672\n",
      "Index: 16\n",
      "Training Accuracy (max_depth=16): 0.9105540080470442\n",
      "Testing Accuracy (max_depth=16): 0.8963169297431136\n",
      "Index: 17\n",
      "Training Accuracy (max_depth=17): 0.9107750806915152\n",
      "Testing Accuracy (max_depth=17): 0.8961400716275368\n",
      "Index: 18\n",
      "Training Accuracy (max_depth=18): 0.9111730114515629\n",
      "Testing Accuracy (max_depth=18): 0.8957863553963833\n",
      "Index: 19\n",
      "Training Accuracy (max_depth=19): 0.9112614405093514\n",
      "Testing Accuracy (max_depth=19): 0.8956537118097007\n",
      "Index: 20\n",
      "Training Accuracy (max_depth=20): 0.9113056550382456\n",
      "Testing Accuracy (max_depth=20): 0.8956537118097007\n"
     ]
    }
   ],
   "source": [
    "max_depths = [1,2,3,4,5,6,7,8,9,10,11,12,13,14,15,16,17,18,19,20]\n",
    "training_accuracies = []\n",
    "testing_accuracies = []\n",
    "\n",
    "for index, max_depth in enumerate(max_depths, 1):\n",
    "    print(f\"Index: {index}\")\n",
    "    clf = tree.DecisionTreeClassifier(criterion='entropy', max_depth=max_depth, min_samples_split=0.005)\n",
    "    clf.fit(features_train, target_train)\n",
    "    training_predictions = clf.predict(features_train)\n",
    "    training_accuracy = accuracy_score(target_train, training_predictions)\n",
    "    training_accuracies.append(training_accuracy)\n",
    "\n",
    "    testing_predictions = clf.predict(features_test)\n",
    "    testing_accuracy = accuracy_score(target_test, testing_predictions)\n",
    "    testing_accuracies.append(testing_accuracy)\n",
    "    print(f\"Training Accuracy (max_depth={max_depth}): {training_accuracy}\")\n",
    "    print(f\"Testing Accuracy (max_depth={max_depth}): {testing_accuracy}\")"
   ]
  },
  {
   "cell_type": "markdown",
   "metadata": {
    "id": "ZMwAt6-f8IpZ"
   },
   "source": [
    "**Run the following lines to plot training and testing accuracies over maximum depth**"
   ]
  },
  {
   "cell_type": "code",
   "execution_count": 23,
   "metadata": {
    "colab": {
     "base_uri": "https://localhost:8080/",
     "height": 452
    },
    "id": "gvWHhoX9iqjy",
    "outputId": "a12ea75f-d616-47e9-b4d8-4c35a4c0e19d"
   },
   "outputs": [
    {
     "data": {
      "image/png": "[encoded data removed]",
      "text/plain": [
       "<Figure size 640x480 with 1 Axes>"
      ]
     },
     "metadata": {},
     "output_type": "display_data"
    }
   ],
   "source": [
    "plt.axis([0, 20, 0.7, 1])\n",
    "plt.plot(max_depths, training_accuracies, 'rs', max_depths, testing_accuracies, 'bs')\n",
    "plt.title('training & testing accuracies')\n",
    "plt.show()"
   ]
  },
  {
   "cell_type": "markdown",
   "metadata": {
    "id": "1cvXJPnf8Ipa"
   },
   "source": [
    "## D.7 Based on the plot, identify the following values:\n",
    "\n",
    "*3 POINTS*\n",
    "\n",
    "- maximum depth(s) for which the decision tree is underfitting\n",
    "- maximum depth(s) for which the decision tree is overfitting\n",
    "- optimal maximum depth according to you, and comment your decision\n",
    "\n",
    "For each of the values, explain your choice. If you can't find one of these values, explain why you can't find it."
   ]
  },
  {
   "cell_type": "markdown",
   "metadata": {
    "id": "92-sah7h8Ipa"
   },
   "source": [
    "Maximum depth(s) for underfitting: These are the depths where both the training and testing accuracies are low. The decision tree is underfitting the data and not capturing the underlying patterns. In the given plot, it appears that the decision tree is underfitting for depths 1 and 2\n",
    "\n",
    "Maximum depth(s) for overfitting: These are the depths where the training accuracy is significantly higher than the testing accuracy. The decision tree is memorizing the training data and not generalizing well to unseen data. In the given plot, it seems that the decision tree starts to overfit from depth 8 and beyond.\n",
    "\n",
    "Optimal maximum depth: This is the depth where the testing accuracy is highest and close to the training accuracy. It indicates a good balance between model complexity and generalization. Based on the plot, the optimal maximum depth seems to be around 5 or 6. This depth provides a high testing accuracy while maintaining a reasonably close training accuracy, suggesting good generalization to unseen data.\n",
    "\n",
    "\n",
    "\n"
   ]
  },
  {
   "cell_type": "markdown",
   "metadata": {
    "id": "rQzjq9eT8Ipa"
   },
   "source": [
    "## D.8 Train a decision tree on the training sample\n",
    "\n",
    "*1 POINT*\n",
    "\n",
    "- using the optimal maximum depth identified in B.6\n",
    "- using entropy to measure the quality of a split\n",
    "- requiring at least 0.5% of the sample to split an internal node"
   ]
  },
  {
   "cell_type": "code",
   "execution_count": 26,
   "metadata": {
    "id": "YLjUJHoG8Ipa"
   },
   "outputs": [],
   "source": [
    "optimal_max_depth = 6  # Replace with the optimal maximum depth identified in B.6\n",
    "\n",
    "clf = tree.DecisionTreeClassifier(criterion='entropy', max_depth=optimal_max_depth, min_samples_split=0.005)\n",
    "clf.fit(features_train, target_train)\n",
    "clf_fit = clf\n"
   ]
  },
  {
   "cell_type": "markdown",
   "metadata": {
    "id": "K4-Q1aCM8Ipb"
   },
   "source": [
    "## D.9 Evaluate accuracy of this prediction\n",
    "\n",
    "*1 POINT*\n",
    "\n",
    "Print the result"
   ]
  },
  {
   "cell_type": "code",
   "execution_count": 27,
   "metadata": {
    "colab": {
     "base_uri": "https://localhost:8080/"
    },
    "id": "41zK0WnUi3CQ",
    "outputId": "e2449c9e-8710-4edb-a92d-94fed5acea1f"
   },
   "outputs": [
    {
     "name": "stdout",
     "output_type": "stream",
     "text": [
      "Accuracy: 0.9019321749126763\n"
     ]
    }
   ],
   "source": [
    "# Print the answer here\n",
    "testing_predictions = clf_fit.predict(features_test)\n",
    "accuracy = accuracy_score(target_test, testing_predictions)\n",
    "print(f\"Accuracy: {accuracy}\")\n"
   ]
  },
  {
   "cell_type": "markdown",
   "metadata": {
    "id": "Yn5bFOke8Ipb"
   },
   "source": [
    "# E. Support Vector Machine (SVM)\n",
    "\n",
    "The second model we'll look into is the Support Vector Machine (SVM) model."
   ]
  },
  {
   "cell_type": "markdown",
   "metadata": {
    "id": "zvId7zkJj7kS"
   },
   "source": [
    "## E.1 Explain the concept of SVM and how it can be used to classify customers in the given dataset. Discuss the different kernel functions of SVM we saw in the course too.\n",
    "\n",
    "*2 POINTS*"
   ]
  },
  {
   "cell_type": "markdown",
   "metadata": {
    "id": "V_pfUcpuj-OJ"
   },
   "source": [
    "Support Vector Machines (SVM) is a supervised machine learning algorithm used for classification and regression tasks. SVM aims to find an optimal hyperplane that separates data points of different classes in a high-dimensional feature space.\n",
    "\n",
    "In the context of classifying customers in the given dataset, SVM can be used to build a model that predicts whether a customer is a potential subscriber or not based on the available features. The SVM algorithm tries to find the best decision boundary (hyperplane) that maximally separates the two classes, maximizing the margin between the closest points of different classes. The points closest to the decision boundary are called support vectors.\n",
    "\n",
    "SVM can handle both linearly separable and non-linearly separable datasets through the use of kernel functions. Kernel functions allow SVM to transform the input features into a higher-dimensional space, where a linear separation becomes possible. This is known as the kernel trick.\n",
    "\n",
    "Some common kernel functions used in SVM are:\n",
    "\n",
    "Linear Kernel: This is the simplest kernel that performs a linear classification. It is suitable when the data is linearly separable.\n",
    "\n",
    "Polynomial Kernel: This kernel function computes the similarity between two points in a feature space using polynomial functions. It can handle curved decision boundaries.\n",
    "\n",
    "Radial Basis Function (RBF) Kernel: This is the most widely used kernel function. It maps the data into an infinite-dimensional space and is effective in capturing complex patterns. It is suitable for non-linearly separable data.\n",
    "\n",
    "Sigmoid Kernel: This kernel function maps the data into a higher-dimensional space using sigmoid functions. It can be useful when dealing with neural networks or when the data exhibits sigmoidal patterns.\n",
    "\n",
    "The choice of kernel function depends on the characteristics of the dataset and the problem at hand. Different kernel functions may yield different decision boundaries and classification results. It is important to experiment with different kernels and tune their parameters to find the best-performing SVM model for the given dataset."
   ]
  },
  {
   "cell_type": "markdown",
   "metadata": {
    "id": "sLBY9SU18Ipb"
   },
   "source": [
    "## E.2 Train a non linear SVM on training sample\n",
    "\n",
    "*1 POINT*\n",
    "\n",
    "- with a penalty parameter C of 1\n",
    "- a gamma value of 10"
   ]
  },
  {
   "cell_type": "code",
   "execution_count": 13,
   "metadata": {
    "colab": {
     "base_uri": "https://localhost:8080/"
    },
    "collapsed": true,
    "id": "O3i2K0mC8Ipb",
    "outputId": "e0ab5c24-4cc3-4f5c-e7b5-04d7f4097a9e"
   },
   "outputs": [
    {
     "name": "stdout",
     "output_type": "stream",
     "text": [
      "Accuracy: 0.8845116505283637\n"
     ]
    }
   ],
   "source": [
    "svc = svm.SVC(C=1, gamma=10)\n",
    "svc_fit = svc.fit(features_train, target_train)\n",
    "accuracy = svc_fit.score(features_test, target_test)\n",
    "print(f\"Accuracy: {accuracy}\")\n"
   ]
  },
  {
   "cell_type": "markdown",
   "metadata": {
    "id": "MOW8e6BG8Ipb"
   },
   "source": [
    "## E.3 Comment processing time of training a non linear SVM on a sample of this size\n",
    "\n",
    "*2 POINTS*"
   ]
  },
  {
   "cell_type": "markdown",
   "metadata": {
    "id": "LOgq395cp3Vy"
   },
   "source": [
    "The training time of 2 minutes for a non-linear SVM on a sample of this size can be considered relatively reasonable. SVMs are known to be computationally intensive, especially when dealing with larger datasets and non-linear decision boundaries. Therefore, a training time of 2 minutes indicates that the SVM algorithm was able to process and learn from the data within a reasonable timeframe.\n",
    "\n",
    "However, it's important to note that the processing time can vary depending on various factors, including the hardware specifications of the machine and the specific implementation of the SVM algorithm. If the dataset or the complexity of the data increases, the training time may also increase accordingly.\n",
    "\n",
    "In this case, 2 minutes can be considered an acceptable training time for a non-linear SVM on this sample size. It's crucial to assess the trade-off between processing time and the desired accuracy of the SVM model."
   ]
  },
  {
   "cell_type": "markdown",
   "metadata": {
    "id": "8JVmF8TI8Ipc"
   },
   "source": [
    "# F. K-Nearest Neighbors (KNN)"
   ]
  },
  {
   "cell_type": "markdown",
   "metadata": {
    "id": "6SJHFfuSkDv5"
   },
   "source": [
    "## F.1 Explain the concept of KNN and how it can be used to classify customers in the given dataset.\n",
    "\n",
    "*2 POINTS*"
   ]
  },
  {
   "cell_type": "markdown",
   "metadata": {
    "id": "HzDYYGFqkD4A"
   },
   "source": [
    "The concept of K-Nearest Neighbors (KNN) is a simple yet powerful classification algorithm used to classify data points based on their proximity to other labeled data points. It works on the principle that data points with similar features are likely to belong to the same class.\n",
    "\n",
    "In the context of classifying customers in the given dataset, KNN can be used by considering each customer as a data point with specific features (e.g., age, job, education) and a corresponding class label (e.g., subscription). The algorithm finds the K nearest neighbors (i.e., data points) to the customer based on a chosen distance metric, such as Euclidean distance. The class label of the customer is then determined based on the majority vote among its K nearest neighbors.\n",
    "\n",
    "To classify a new customer, KNN calculates the distance between the new customer and all existing customers in the dataset. It then selects the K nearest neighbors and assigns the class label based on the majority vote. KNN is a non-parametric algorithm, meaning it does not make any assumptions about the underlying distribution of the data.\n",
    "\n",
    "One important consideration in using KNN is the choice of the parameter K, which determines the number of neighbors considered for classification. A smaller value of K makes the model more sensitive to local variations in the data, potentially leading to overfitting. On the other hand, a larger value of K can smooth out the decision boundaries, potentially leading to underfitting. Therefore, selecting an appropriate value of K is crucial for achieving optimal classification performance."
   ]
  },
  {
   "cell_type": "markdown",
   "metadata": {
    "id": "qc8-6VQa8Ipc"
   },
   "source": [
    "## F.2 Train a k-nearest neighbors on training sample\n",
    "\n",
    "*1 POINT*\n",
    "\n",
    "- using 1 nearest neighbor"
   ]
  },
  {
   "cell_type": "code",
   "execution_count": 30,
   "metadata": {
    "id": "d_i1swu68Ipc"
   },
   "outputs": [],
   "source": [
    "clf = KNeighborsClassifier(n_neighbors=1)\n",
    "clf_fit = clf.fit(features_train, target_train)"
   ]
  },
  {
   "cell_type": "markdown",
   "metadata": {
    "id": "4mP_YT9o8Ipc"
   },
   "source": [
    "## F.3 Compute predictive accuracy on training and testing samples for the KNN with 1 nearest neighbor\n",
    "\n",
    "*1 POINT*"
   ]
  },
  {
   "cell_type": "code",
   "execution_count": 31,
   "metadata": {
    "colab": {
     "base_uri": "https://localhost:8080/"
    },
    "id": "T55nWPl8jRcR",
    "outputId": "0a00171f-5398-4d1e-971f-14824888ac26"
   },
   "outputs": [
    {
     "name": "stdout",
     "output_type": "stream",
     "text": [
      "Training Accuracy: 1.0\n",
      "Testing Accuracy: 0.8422425609055135\n"
     ]
    }
   ],
   "source": [
    "training_accuracy = clf_fit.score(features_train, target_train)\n",
    "testing_accuracy = clf_fit.score(features_test, target_test)\n",
    "print(\"Training Accuracy:\", training_accuracy)\n",
    "print(\"Testing Accuracy:\", testing_accuracy)\n"
   ]
  },
  {
   "cell_type": "markdown",
   "metadata": {
    "id": "HGiCA0Fw8Ipc"
   },
   "source": [
    "## F.4 Compare training and testing accuracies. What is the name of this phenomenon?\n",
    "\n",
    "*1 POINT*"
   ]
  },
  {
   "cell_type": "markdown",
   "metadata": {
    "id": "_mIhFTiI8Ipc"
   },
   "source": [
    "The phenomenon observed here is called \"overfitting.\" Overfitting occurs when a model performs extremely well on the training data but fails to generalize well to new, unseen data. In this case, the KNN classifier with 1 nearest neighbor achieves a perfect training accuracy of 1.0, but its testing accuracy is lower at 0.842. This suggests that the model has memorized the training data too well and is not able to generalize effectively to new data points"
   ]
  },
  {
   "cell_type": "markdown",
   "metadata": {
    "id": "JbypzIpx8Ipc"
   },
   "source": [
    "## F.5 Explain why training accuracy for a KNN with 1 nearest neighbor is high\n",
    "\n",
    "*2 POINTS*"
   ]
  },
  {
   "cell_type": "markdown",
   "metadata": {
    "id": "t0TTs7AdvMPC"
   },
   "source": [
    "When using a KNN algorithm with 1 nearest neighbor, the training accuracy can be high because the model essentially memorizes the entire training dataset. With only 1 nearest neighbor, the model assigns the label of the single closest training example to any test example. As a result, the model can perfectly classify the training examples because it simply retrieves the exact label of the nearest neighbor from the training set.\n",
    "\n",
    "This high training accuracy indicates that the model is able to fit the training data extremely well. However, it may not generalize well to unseen data since it is overly sensitive to the specific instances in the training set. This can lead to overfitting, where the model fails to capture the underlying patterns and relationships in the data and instead memorizes the noise or idiosyncrasies of the training set. As a result, the testing accuracy may be lower as the model struggles to make accurate predictions on new, unseen examples."
   ]
  },
  {
   "cell_type": "code",
   "execution_count": null,
   "metadata": {
    "collapsed": true,
    "id": "1NKqlvoA8Ipd"
   },
   "outputs": [],
   "source": []
  },
  {
   "cell_type": "markdown",
   "metadata": {
    "id": "UC5PAygo8Ipd"
   },
   "source": [
    "## F.6 Complete the following code to evaluate KNN predictive accuracy over complexity\n",
    "\n",
    "*1 POINT*\n",
    "\n",
    "- train several KNNs with number of nearest neighbors from 1 to 20\n",
    "- compute both training and testing accuracies for each number of nearest neighbors and store them in lists\n",
    "\n",
    "NB: this can take a long time (20 times the code in question F.2). Don't hesitate to print something in the \"for\" loop, so that you can see how the code moves forward."
   ]
  },
  {
   "cell_type": "code",
   "execution_count": 14,
   "metadata": {
    "colab": {
     "base_uri": "https://localhost:8080/"
    },
    "id": "4o4MREzSjVwb",
    "outputId": "86b61875-7e47-49fc-9abb-fed0e5c9db93"
   },
   "outputs": [
    {
     "name": "stdout",
     "output_type": "stream",
     "text": [
      "Neighbors: 1\n",
      "Training Accuracy: 1.0\n",
      "Testing Accuracy: 0.8385727550072954\n",
      "Training Precision: 1.0\n",
      "Testing Precision: 0.834010744241379\n",
      "-----------\n",
      "Neighbors: 2\n",
      "Training Accuracy: 0.9176725471990096\n",
      "Testing Accuracy: 0.8797364814077906\n",
      "Training Precision: 0.9247037240229452\n",
      "Testing Precision: 0.8391221929949988\n",
      "-----------\n",
      "Neighbors: 3\n",
      "Training Accuracy: 0.9199274881726135\n",
      "Testing Accuracy: 0.86961135429102\n",
      "Training Precision: 0.9122305980852277\n",
      "Testing Precision: 0.8447165880081806\n",
      "-----------\n",
      "Neighbors: 4\n",
      "Training Accuracy: 0.9010920988636866\n",
      "Testing Accuracy: 0.8825219967281248\n",
      "Training Precision: 0.8922865351466687\n",
      "Testing Precision: 0.8462408262689078\n",
      "-----------\n",
      "Neighbors: 5\n",
      "Training Accuracy: 0.9017111022682053\n",
      "Testing Accuracy: 0.8794269797055312\n",
      "Training Precision: 0.8870565364171297\n",
      "Testing Precision: 0.8505043014205451\n",
      "-----------\n",
      "Neighbors: 6\n",
      "Training Accuracy: 0.8963611442720077\n",
      "Testing Accuracy: 0.883671574479374\n",
      "Training Precision: 0.8818056067674211\n",
      "Testing Precision: 0.8488890352879601\n",
      "-----------\n",
      "Neighbors: 7\n",
      "Training Accuracy: 0.8968475040898439\n",
      "Testing Accuracy: 0.8827430693725958\n",
      "Training Precision: 0.8793005099661698\n",
      "Testing Precision: 0.852672668181693\n",
      "-----------\n",
      "Neighbors: 8\n",
      "Training Accuracy: 0.894371490471769\n",
      "Testing Accuracy: 0.8842021488261043\n",
      "Training Precision: 0.8770676490324454\n",
      "Testing Precision: 0.8501310010980796\n",
      "-----------\n",
      "Neighbors: 9\n",
      "Training Accuracy: 0.8939735597117213\n",
      "Testing Accuracy: 0.8827872839014901\n",
      "Training Precision: 0.8742702939156363\n",
      "Testing Precision: 0.8516807570833443\n",
      "-----------\n",
      "Neighbors: 10\n",
      "Training Accuracy: 0.8925144802582129\n",
      "Testing Accuracy: 0.8844232214705753\n",
      "Training Precision: 0.8726548638945686\n",
      "Testing Precision: 0.850729705970848\n",
      "-----------\n",
      "Neighbors: 11\n",
      "Training Accuracy: 0.8930892691338373\n",
      "Testing Accuracy: 0.8838484325949507\n",
      "Training Precision: 0.8726543019699788\n",
      "Testing Precision: 0.8528450246710968\n",
      "-----------\n",
      "Neighbors: 12\n",
      "Training Accuracy: 0.8922049785559535\n",
      "Testing Accuracy: 0.8855727992218243\n",
      "Training Precision: 0.8719094036544454\n",
      "Testing Precision: 0.853247677284744\n",
      "-----------\n",
      "Neighbors: 13\n",
      "Training Accuracy: 0.8926029093160013\n",
      "Testing Accuracy: 0.8857938718662952\n",
      "Training Precision: 0.8717517669508761\n",
      "Testing Precision: 0.8561272800095239\n",
      "-----------\n",
      "Neighbors: 14\n",
      "Training Accuracy: 0.8919396913825883\n",
      "Testing Accuracy: 0.8857938718662952\n",
      "Training Precision: 0.8712225140120186\n",
      "Testing Precision: 0.853732051723253\n",
      "-----------\n",
      "Neighbors: 15\n",
      "Training Accuracy: 0.8914533315647521\n",
      "Testing Accuracy: 0.8853075120484591\n",
      "Training Precision: 0.8695326788401438\n",
      "Testing Precision: 0.8548267664423538\n",
      "-----------\n",
      "Neighbors: 16\n",
      "Training Accuracy: 0.891188044391387\n",
      "Testing Accuracy: 0.8857054428085068\n",
      "Training Precision: 0.8695499118304358\n",
      "Testing Precision: 0.8536499042267514\n",
      "-----------\n",
      "Neighbors: 17\n",
      "Training Accuracy: 0.8910554008047045\n",
      "Testing Accuracy: 0.8853075120484591\n",
      "Training Precision: 0.8687455155364319\n",
      "Testing Precision: 0.8547088173615668\n",
      "-----------\n",
      "Neighbors: 18\n",
      "Training Accuracy: 0.8903037538135031\n",
      "Testing Accuracy: 0.8853075120484591\n",
      "Training Precision: 0.8675858015018356\n",
      "Testing Precision: 0.8529271152658694\n",
      "-----------\n",
      "Neighbors: 19\n",
      "Training Accuracy: 0.891188044391387\n",
      "Testing Accuracy: 0.8864570897997082\n",
      "Training Precision: 0.8690514022250149\n",
      "Testing Precision: 0.8571168039765796\n",
      "-----------\n",
      "Neighbors: 20\n",
      "Training Accuracy: 0.8903921828712915\n",
      "Testing Accuracy: 0.8866781624441792\n",
      "Training Precision: 0.8677774831463605\n",
      "Testing Precision: 0.8560916633260517\n",
      "-----------\n",
      "Training Accuracies: [1.0, 0.9176725471990096, 0.9199274881726135, 0.9010920988636866, 0.9017111022682053, 0.8963611442720077, 0.8968475040898439, 0.894371490471769, 0.8939735597117213, 0.8925144802582129, 0.8930892691338373, 0.8922049785559535, 0.8926029093160013, 0.8919396913825883, 0.8914533315647521, 0.891188044391387, 0.8910554008047045, 0.8903037538135031, 0.891188044391387, 0.8903921828712915]\n",
      "Testing Accuracies: [0.8385727550072954, 0.8797364814077906, 0.86961135429102, 0.8825219967281248, 0.8794269797055312, 0.883671574479374, 0.8827430693725958, 0.8842021488261043, 0.8827872839014901, 0.8844232214705753, 0.8838484325949507, 0.8855727992218243, 0.8857938718662952, 0.8857938718662952, 0.8853075120484591, 0.8857054428085068, 0.8853075120484591, 0.8853075120484591, 0.8864570897997082, 0.8866781624441792]\n",
      "Training Precisions: [1.0, 0.9247037240229452, 0.9122305980852277, 0.8922865351466687, 0.8870565364171297, 0.8818056067674211, 0.8793005099661698, 0.8770676490324454, 0.8742702939156363, 0.8726548638945686, 0.8726543019699788, 0.8719094036544454, 0.8717517669508761, 0.8712225140120186, 0.8695326788401438, 0.8695499118304358, 0.8687455155364319, 0.8675858015018356, 0.8690514022250149, 0.8677774831463605]\n",
      "Testing Precisions: [0.834010744241379, 0.8391221929949988, 0.8447165880081806, 0.8462408262689078, 0.8505043014205451, 0.8488890352879601, 0.852672668181693, 0.8501310010980796, 0.8516807570833443, 0.850729705970848, 0.8528450246710968, 0.853247677284744, 0.8561272800095239, 0.853732051723253, 0.8548267664423538, 0.8536499042267514, 0.8547088173615668, 0.8529271152658694, 0.8571168039765796, 0.8560916633260517]\n"
     ]
    }
   ],
   "source": [
    "kneighboors = [1,2,3,4,5,6,7,8,9,10,11,12,13,14,15,16,17,18,19,20]\n",
    "training_accuracies = []\n",
    "testing_accuracies = []\n",
    "training_precisions = []\n",
    "testing_precisions = []\n",
    "\n",
    "for index, kneighbor in enumerate(kneighboors, 1):\n",
    "    print(f\"Neighbors: {kneighbor}\")\n",
    "    clf = KNeighborsClassifier(n_neighbors=kneighbor)\n",
    "    clf.fit(features_train, target_train)\n",
    "    training_predictions = clf.predict(features_train)\n",
    "    training_accuracy = accuracy_score(target_train, training_predictions)\n",
    "    training_accuracies.append(training_accuracy)\n",
    "    training_precision = precision_score(target_train, training_predictions, average='weighted')\n",
    "    training_precisions.append(training_precision)\n",
    "\n",
    "    testing_predictions = clf.predict(features_test)\n",
    "    testing_accuracy = accuracy_score(target_test, testing_predictions)\n",
    "    testing_accuracies.append(testing_accuracy)\n",
    "    testing_precision = precision_score(target_test, testing_predictions, average='weighted')\n",
    "    testing_precisions.append(testing_precision)\n",
    "\n",
    "    print(f\"Training Accuracy: {training_accuracy}\")\n",
    "    print(f\"Testing Accuracy: {testing_accuracy}\")\n",
    "    print(f\"Training Precision: {training_precision}\")\n",
    "    print(f\"Testing Precision: {testing_precision}\")\n",
    "    print(\"-----------\")\n",
    "\n",
    "# Print the lists of training and testing accuracies and precisions\n",
    "print(\"Training Accuracies:\", training_accuracies)\n",
    "print(\"Testing Accuracies:\", testing_accuracies)\n",
    "print(\"Training Precisions:\", training_precisions)\n",
    "print(\"Testing Precisions:\", testing_precisions)\n"
   ]
  },
  {
   "cell_type": "code",
   "execution_count": null,
   "metadata": {
    "id": "ahyH6jUSbUob"
   },
   "outputs": [],
   "source": []
  },
  {
   "cell_type": "markdown",
   "metadata": {
    "id": "Nk7nu2LfjrzX"
   },
   "source": [
    "**Run the following lines to plot training and testing accuracies over number of nearest neighbors**"
   ]
  },
  {
   "cell_type": "code",
   "execution_count": 10,
   "metadata": {
    "colab": {
     "base_uri": "https://localhost:8080/",
     "height": 452
    },
    "id": "9BQFZ7rGjsCl",
    "outputId": "e50551d6-71e3-453d-b22b-1e6e43e7471b"
   },
   "outputs": [
    {
     "data": {
      "image/png": "[encoded data removed]",
      "text/plain": [
       "<Figure size 640x480 with 1 Axes>"
      ]
     },
     "metadata": {},
     "output_type": "display_data"
    }
   ],
   "source": [
    "import matplotlib.pyplot as plt\n",
    "plt.axis([0, 20, 0.7, 1])\n",
    "plt.plot(kneighboors, training_accuracies, 'rs', kneighboors, testing_accuracies, 'bs')\n",
    "plt.title('training & testing accuracies')\n",
    "plt.show()"
   ]
  },
  {
   "cell_type": "markdown",
   "metadata": {
    "id": "IsQJHSyA8Ipd"
   },
   "source": [
    "## F.7 Based on the plot, identify the following values:\n",
    "\n",
    "*3 POINTS*\n",
    "\n",
    "- number of nearest neighbors for which the KNN is underfitting (if there is underfitting!)\n",
    "- number of nearest neighbors for which the KNN is overfitting (if there is overfitting!)\n",
    "- optimal number of nearest neighbors according to you, and comment on your decision"
   ]
  },
  {
   "cell_type": "markdown",
   "metadata": {
    "id": "rQR5Xw3Wa7bX"
   },
   "source": [
    "Underfitting occurs when the model is too simple and fails to capture the underlying patterns in the data. In this case, we don't observe underfitting because the training accuracy and testing accuracy are both high for 1 nearest neighbor, indicating that the model is able to capture the patterns in the data.\n",
    "\n",
    "Overfitting occurs when the training accuracy is high while the testing accuracy is significantly lower, indicating that the model is too complex and has memorized the training data. By analyzing plot it seems for nearest neighbor 1 KNN is overfitting.\n",
    "\n",
    "The optimal number of nearest neighbors can be identified by finding the point where the testing accuracy is highest or reaches a plateau while the model remains adequately generalized. By analyzing the plot we see optimal number for nearest neighbors is 20"
   ]
  },
  {
   "cell_type": "markdown",
   "metadata": {
    "id": "fXqNqQQi8Ipd"
   },
   "source": [
    "## F.8 Train a KNN on the training sample\n",
    "\n",
    "*1 POINT*\n",
    "\n",
    "- using the optimal number of nearest neighbors identified in D.6"
   ]
  },
  {
   "cell_type": "code",
   "execution_count": 11,
   "metadata": {
    "collapsed": true,
    "id": "8jhOVJUT8Ipd"
   },
   "outputs": [],
   "source": [
    "clf = KNeighborsClassifier(n_neighbors=20)\n",
    "clf_fit = clf.fit(features_train, target_train)\n"
   ]
  },
  {
   "cell_type": "markdown",
   "metadata": {
    "id": "tq45bSMA8Ipe"
   },
   "source": [
    "## F.9 Evaluate accuracy of this prediction\n",
    "\n",
    "*1 POINT*\n",
    "\n",
    "Print the result"
   ]
  },
  {
   "cell_type": "code",
   "execution_count": 12,
   "metadata": {
    "colab": {
     "base_uri": "https://localhost:8080/"
    },
    "id": "FhEkD_KGjyLZ",
    "outputId": "d7185562-7171-4497-c48e-b9556f1d2872"
   },
   "outputs": [
    {
     "name": "stdout",
     "output_type": "stream",
     "text": [
      "Testing Accuracy: 0.8866781624441792\n"
     ]
    }
   ],
   "source": [
    "testing_predictions = clf_fit.predict(features_test)\n",
    "testing_accuracy = accuracy_score(target_test, testing_predictions)\n",
    "print(f\"Testing Accuracy: {testing_accuracy}\")\n"
   ]
  },
  {
   "cell_type": "markdown",
   "metadata": {
    "id": "7GR7rHDG8Ipe"
   },
   "source": [
    "# G. Model Comparison\n",
    "\n",
    "Now that we created three different Machine Learning models, we need to decide which is the best one for our specific use-case."
   ]
  },
  {
   "cell_type": "markdown",
   "metadata": {
    "id": "mdVarmNU8Ipe"
   },
   "source": [
    "## G.1 Compare decision tree, support vector machine and k-nearest neighbors classifiers on:\n",
    "\n",
    "*4 POINTS*\n",
    "\n",
    "- predictive accuracy (testing accuracy of optimal complexity)\n",
    "- processing time ('affordable' or 'not affordable')\n",
    "- ability to estimate class probability for a new observation ('yes', 'no')"
   ]
  },
  {
   "cell_type": "markdown",
   "metadata": {
    "id": "1muP1p8p8Ipf"
   },
   "source": [
    "**Decision tree classifiers**"
   ]
  },
  {
   "cell_type": "markdown",
   "metadata": {
    "id": "HhW2imr68Ipf"
   },
   "source": [
    "- predictive accuracy: ...\n",
    "- processing time: ...\n",
    "- can output class probability: ..."
   ]
  },
  {
   "cell_type": "markdown",
   "metadata": {
    "id": "y65ecCAxn6W0"
   },
   "source": [
    "Predictive Accuracy: The predictive accuracy of the decision tree classifier depends on the complexity of the tree, specifically the depth and split criteria used. In the given information, the testing accuracy of the decision tree with the optimal maximum depth (6) was 0.9019.\n",
    "\n",
    "Processing Time: The processing time for training a decision tree classifier is generally fast compared to some other models. However, the exact processing time can vary depending on factors such as the size of the dataset and the complexity of the tree. the processing time in the given context is few seconds, which is faster then SVM and KNN\n",
    "\n",
    "Class Probability Output: Yes, decision tree classifiers can output class probabilities for a new observation. This is typically done by calculating the relative frequency of each class within the leaf node that the observation falls into. The class probability can provide additional information about the certainty of the prediction.\n",
    "\n",
    "Overall, decision tree classifiers can provide reasonable predictive accuracy, typically have fast processing times, and are capable of outputting class probabilities."
   ]
  },
  {
   "cell_type": "markdown",
   "metadata": {
    "id": "z1txHSXT8Ipf"
   },
   "source": [
    "**Support vector machine classifiers (non linear)**"
   ]
  },
  {
   "cell_type": "markdown",
   "metadata": {
    "id": "gw8ZCYnN8Ipf"
   },
   "source": [
    "- predictive accuracy: ...\n",
    "- processing time: ...\n",
    "- can output class probability: ..."
   ]
  },
  {
   "cell_type": "markdown",
   "metadata": {
    "id": "hKzzfAeSqcme"
   },
   "source": [
    "Predictive Accuracy: The predictive accuracy of the SVM classifier depends on various factors such as the choice of kernel function, regularization parameter (C), and kernel-specific parameters. In the given information, the testing accuracy of the non-linear SVM with a penalty parameter (C) of 1 and a gamma value of 10 was 0.8845.\n",
    "\n",
    "Processing Time: Training a non-linear SVM classifier can be computationally expensive, especially when dealing with large datasets or complex kernel functions. The processing time for training an SVM classifier depends on the number of samples, number of features, and the complexity of the chosen kernel. With processing time of almost 2 minutes in the given context, it is considered affordable.\n",
    "\n",
    "Class Probability Output: SVM classifiers are not inherently designed to output class probabilities. The standard SVM algorithm aims to find the optimal decision boundary that maximally separates the classes, rather than directly estimating class probabilities. However, there are techniques such as Platt scaling and cross-validation that can be used to approximate class probabilities from the SVM decision values."
   ]
  },
  {
   "cell_type": "markdown",
   "metadata": {
    "id": "LYna2Zkv8Ipf"
   },
   "source": [
    "**K-nearest neighbors classifiers**"
   ]
  },
  {
   "cell_type": "markdown",
   "metadata": {
    "id": "AEEMW7oY8Ipf"
   },
   "source": [
    "- predictive accuracy: ...\n",
    "- processing time: ...\n",
    "- can output class probability: ..."
   ]
  },
  {
   "cell_type": "markdown",
   "metadata": {
    "id": "P1KPI4eqt608"
   },
   "source": [
    "K-nearest neighbors (KNN) classifiers have a predictive accuracy of 0.8866, which indicates how well the model performs in correctly classifying the customers in the testing dataset. The higher the accuracy, the better the model's performance in making accurate predictions.\n",
    "\n",
    "In terms of processing time, KNN can not be considered affordable because it took almost 8 minutes to process. The training process of KNN involves storing the entire training dataset, and the prediction process involves calculating distances between the new observation and all the training samples. This can be computationally expensive, especially as the dataset is larger.\n",
    "\n",
    "When it comes to class probability estimation, KNN classifiers do not have a built-in mechanism to directly output class probabilities for a new observation. Instead, KNN assigns the class label based on the majority vote of the k-nearest neighbors. Therefore, KNN cannot directly provide class probabilities as an output. However, we can indirectly estimate the probabilities by using the proportion of neighbors in each class as a measure of confidence."
   ]
  },
  {
   "cell_type": "markdown",
   "metadata": {
    "id": "u62cKPfz8Ipf"
   },
   "source": [
    "## G.2 Based on this comparaison, which classifier would you choose to estimate probability to subscribe to a term deposit? Explain your answer.\n",
    "\n",
    "*2 POINTS*"
   ]
  },
  {
   "cell_type": "markdown",
   "metadata": {
    "id": "c6udm40G8Ipf"
   },
   "source": [
    "Based on the comparison of the classifiers, the decision tree classifier would be the preferred choice to estimate the probability of subscribing to a term deposit.\n",
    "\n",
    "The decision tree classifier has a relatively high predictive accuracy of 0.9019, indicating its ability to accurately classify customers as potential subscribers or non-subscribers. It performs well in capturing the patterns and relationships in the dataset.\n",
    "\n",
    "In terms of processing time, the decision tree classifier is faster compared to the non-linear SVM and K-nearest neighbors classifiers. The training and prediction process of a decision tree is generally efficient, especially for datasets of moderate size.\n",
    "\n",
    "Additionally, the decision tree classifier can output class probabilities for a new observation. This is valuable in understanding the confidence level of the classification. By considering the class probabilities, we can make more informed decisions based on the likelihood of a customer subscribing to a term deposit.\n",
    "\n",
    "Therefore, considering the high predictive accuracy, affordable processing time, and the ability to estimate class probabilities, the decision tree classifier is a suitable choice for estimating the probability of subscribing to a term deposit in this scenario."
   ]
  },
  {
   "cell_type": "markdown",
   "metadata": {
    "id": "n9oNWB49teiU"
   },
   "source": [
    "# H. Feature Importance\n",
    "\n",
    "When you create Machine Learning models, it's often interesting to know what were the most important features to create the predictions. For a lot of Machine Learning models, it can be difficult to extract this feature importance, but not for Decision Trees. That's what you'll do in this section.\n",
    "\n",
    "In Decision Trees, it's fairly easy to compute the features importance of a model. It means, the features that were the most important ones to predict well the output.\n",
    "\n",
    "Please see the official documentation about features importance for Decision Trees in sklearn here: https://scikit-learn.org/stable/modules/generated/sklearn.tree.DecisionTreeClassifier.html#:~:text=The%20importance%20of%20a%20feature,See%20sklearn.\n",
    "\n",
    "The Python could be something like this:\n",
    "\n",
    "```\n",
    "clf = tree.DecisionTreeClassifier(...)\n",
    "clf_fit = clf.fit(...)\n",
    "\n",
    "print(clf_fit.feature_importances_)\n",
    "```\n",
    "\n",
    "**NB**: The feature importance outputs a list in the order of the features you gave in input (aka the \"variables\" variable you defined earlier). I know, it thus can be difficult to read. A solution can be to run this Python code:\n",
    "\n",
    "```\n",
    "for feature_imp, variable in zip(clf_fit.feature_importances_, variables):\n",
    "  print(f\"{variable}: {round(feature_imp*100, 1)}%\")\n",
    "```"
   ]
  },
  {
   "cell_type": "markdown",
   "metadata": {
    "id": "MkQD8J-5ahFr"
   },
   "source": [
    "## H.1 Compute feature importance for Decision Trees\n",
    "\n",
    "*2 POINTS*\n",
    "\n",
    "Use the optimal Decision Tree model trained in the **question D.8**"
   ]
  },
  {
   "cell_type": "code",
   "execution_count": 23,
   "metadata": {
    "colab": {
     "base_uri": "https://localhost:8080/"
    },
    "id": "A5LqCit0kCfJ",
    "outputId": "43e416e2-2b13-4040-a86d-baf0136fd12d"
   },
   "outputs": [
    {
     "name": "stdout",
     "output_type": "stream",
     "text": [
      "age: 6.8%\n",
      "job_is_employee: 0.0%\n",
      "job_is_entrepreneur: 0.0%\n",
      "job_is_manager: 0.0%\n",
      "job_is_retired: 0.0%\n",
      "job_is_student: 0.1%\n",
      "job_is_unemployed: 0.1%\n",
      "marital_is_married: 0.0%\n",
      "marital_is_single: 0.3%\n",
      "marital_is_divorced: 0.0%\n",
      "education_is_tertiary: 0.4%\n",
      "education_is_secondary: 0.0%\n",
      "education_is_primary: 0.0%\n",
      "education_is_unknown: 0.0%\n",
      "poutcome_is_failure: 0.0%\n",
      "poutcome_is_success: 26.1%\n",
      "poutcome_is_unknown: 0.0%\n",
      "isdefault: 0.0%\n",
      "balance: 1.2%\n",
      "housing: 8.3%\n",
      "loan: 0.0%\n",
      "duration: 56.2%\n",
      "campaign: 0.3%\n",
      "previous: 0.3%\n"
     ]
    }
   ],
   "source": [
    "optimal_max_depth = 6  # Replace with the optimal maximum depth identified in B.6\n",
    "\n",
    "clf = tree.DecisionTreeClassifier(criterion='entropy', max_depth=optimal_max_depth, min_samples_split=0.005)\n",
    "clf.fit(features_train, target_train)\n",
    "clf_fit = clf\n",
    "# Compute feature importance\n",
    "feature_importance = clf_fit.feature_importances_\n",
    "\n",
    "# Print feature importance\n",
    "for feature_imp, variable in zip(feature_importance, variables):\n",
    "    print(f\"{variable}: {round(feature_imp*100, 1)}%\")\n"
   ]
  },
  {
   "cell_type": "markdown",
   "metadata": {
    "id": "ycxPo4fbbEIJ"
   },
   "source": [
    "## H.2 Reflect on the feature importance obtained. Do they align on your intuition and understanding of the marketing campaign dataset? If not, discuss possible reasons for the discrepancies.\n",
    "\n",
    "*3 POINTS*"
   ]
  },
  {
   "cell_type": "markdown",
   "metadata": {
    "id": "cgXXx3X9bEfr"
   },
   "source": [
    "The obtained feature importance aligns with some intuitive expectations about the marketing campaign dataset, but there are also a few discrepancies. Here is a discussion of the feature importance and possible reasons for the discrepancies:\n",
    "\n",
    "\"Duration\" (56.2%): The high importance of the \"duration\" feature is reasonable. Longer call durations may indicate more engaging conversations with customers, which can potentially influence their decision to subscribe to a term deposit.\n",
    "\n",
    "\"Poutcome_is_success\" (26.1%): The importance of the \"poutcome_is_success\" feature suggests that the outcome of the previous marketing campaign plays a significant role. If a previous campaign was successful, it increases the likelihood of a customer subscribing to a term deposit in the current campaign.\n",
    "\n",
    "\"Housing\" (8.3%): The importance of the \"housing\" feature indicates that whether a customer has a housing loan affects their likelihood of subscribing to a term deposit. It is reasonable to assume that customers with housing loans may have different financial priorities and, therefore, have varying responses to the campaign.\n",
    "\n",
    "\"Age\" (6.8%): The importance of the \"age\" feature suggests that age plays a modest role in predicting term deposit subscriptions. Different age groups may have different financial goals and risk preferences, which can influence their response to the marketing campaign.\n",
    "\n",
    "However, there are some discrepancies with intuitive expectations:\n",
    "\n",
    "\"Job\" features: The importance of job-related features is relatively low (all at 0.0%). This might be surprising since job type could be expected to have an impact on a person's financial situation and their likelihood of subscribing to a term deposit. It's possible that other features capture the information related to job type, resulting in lower relative importance for these specific job-related features.\n",
    "\n",
    "\"Marital\" and \"Education\" features: The importance of marital and education-related features is also relatively low. This could be due to the dataset's specific characteristics, such as a homogeneous distribution of these variables or their limited impact on the outcome compared to other factors.\n",
    "\n",
    "\"Campaign,\" \"Previous,\" and \"Balance\" features: These features have relatively low importance despite being potentially relevant factors. It's possible that other variables in the dataset capture the information these features provide, resulting in their lower relative importance.\n",
    "\n",
    "These discrepancies might arise due to interactions and dependencies between features, multicollinearity, or limitations in the dataset. Feature importance is derived from the model's internal decision-making process and does not necessarily reflect the true causal relationships between features and the target variable. Further exploration and analysis would be required to better understand the relationships between features and their impact on the marketing campaign's outcome."
   ]
  },
  {
   "cell_type": "markdown",
   "metadata": {
    "id": "OYVyoTuibbic"
   },
   "source": [
    "# I. Communication & Critical Thinking\n",
    "\n",
    "When you create Machine Learning models, the most important part is maybe when you communicate the results you got. You can use the best Machine Learning models possible; if you can't communicate the results well, you won't be able to create actionable insights out of this.\n",
    "\n",
    "Another very important aspect of Machine Learning models is ethics: you can do a lot of things with Machine Learning, but are there ethical? It's crucial to always ask yourself about the ethical implications of the models you build."
   ]
  },
  {
   "cell_type": "markdown",
   "metadata": {
    "id": "QdWcFdw_bbp7"
   },
   "source": [
    "## I.1 Imagine you need to explain the key results and insights from the Machine Learning models to non-technical stakeholders. How would you communicate the results in a clear, concise, and accessible manner?\n",
    "\n",
    "*5 POINTS*"
   ]
  },
  {
   "cell_type": "markdown",
   "metadata": {
    "id": "-izqipqJkGU3"
   },
   "source": [
    "When communicating the key results and insights from Machine Learning models to non-technical stakeholders, it is essential to prioritize clarity, conciseness, and accessibility. Here are five ways to effectively communicate the results:\n",
    "\n",
    "Use visualizations: Utilize visual aids such as charts, graphs, and diagrams to present the results in a visually appealing and easily understandable format. Visualizations can help convey patterns, trends, and comparisons effectively.\n",
    "\n",
    "Focus on high-level insights: Start by highlighting the most important findings and insights from the models. Summarize the key points in simple language and avoid technical jargon. Emphasize the practical implications and how they relate to the stakeholders' goals or objectives.\n",
    "\n",
    "Provide context and background: Briefly explain the problem or objective that the Machine Learning models were designed to address. Provide a concise overview of the data used, the modeling approach, and any notable assumptions or limitations.\n",
    "\n",
    "Highlight actionable recommendations: Translate the model's insights into actionable recommendations that stakeholders can implement. Clearly outline the steps or strategies that can be taken based on the findings to improve decision-making or achieve desired outcomes.\n",
    "\n",
    "Address ethical considerations: Discuss the ethical implications of the models and any potential biases or limitations that should be considered. Explain how fairness, transparency, and privacy were addressed during the model development and deployment process. Encourage an open dialogue about ethical concerns and invite stakeholder input.\n",
    "\n",
    "Overall, the key is to strike a balance between simplifying the technical aspects without oversimplifying or losing important details. It is crucial to tailor the communication to the stakeholders' level of understanding and provide them with clear and actionable insights that they can easily comprehend and apply in their decision-making processes."
   ]
  },
  {
   "cell_type": "markdown",
   "metadata": {
    "id": "0cTLXupZb4HN"
   },
   "source": [
    "## I.2 How would you address the ethical implications of using Machine Learning algorithms in a marketing context? Did you think of any ethical aspects in this project? Consider aspects like fairness, accountability, and transparency.\n",
    "\n",
    "*5 POINTS*"
   ]
  },
  {
   "cell_type": "markdown",
   "metadata": {
    "id": "AUOrRWXJeDUg"
   },
   "source": [
    "When addressing the ethical implications of using Machine Learning algorithms in a marketing context, it is important to consider aspects such as fairness, accountability, and transparency. In this project, several ethical aspects can be identified:\n",
    "\n",
    "Fairness: It is crucial to ensure that the use of Machine Learning algorithms in marketing does not result in unfair discrimination or bias. Care should be taken to avoid any discriminatory outcomes based on protected attributes such as race, gender, or age. Evaluating and mitigating bias in the data and model predictions should be a priority to ensure fairness in targeting and decision-making processes.\n",
    "\n",
    "Accountability: Organizations using Machine Learning algorithms in marketing should take responsibility for their actions and the potential impact on individuals and society. This includes being accountable for the data used, the algorithms deployed, and the decisions made based on the predictions. Establishing clear processes for monitoring and addressing any negative consequences or unintended outcomes is essential.\n",
    "\n",
    "Transparency: Transparency is vital in ensuring that individuals understand how their data is being used and how Machine Learning algorithms are influencing marketing decisions. Organizations should provide clear and accessible explanations of the data collection, processing, and modeling techniques used. Communicating the factors that contribute to predictions, such as feature importance, can help individuals understand the basis for marketing targeting.\n",
    "\n",
    "Informed Consent: Respecting individuals' privacy and obtaining informed consent for data collection and usage is crucial. Organizations should be transparent about the purposes for which data is being collected and provide individuals with clear options for opting in or out of data usage. It is important to give individuals control over their personal information and respect their preferences regarding marketing communications.\n",
    "\n",
    "Data Security and Privacy: Organizations should implement robust data security measures to protect individuals' personal information. They should comply with applicable data protection regulations and ensure that data is collected, stored, and processed securely. Safeguarding privacy and preventing unauthorized access to data is essential to maintain trust and ethical standards.\n",
    "\n",
    "By considering these ethical aspects, organizations can promote fairness, accountability, and transparency in their use of Machine Learning algorithms in marketing. This helps build trust with customers, ensures compliance with regulations, and minimizes the potential negative impacts on individuals and society."
   ]
  }
 ],
 "metadata": {
  "colab": {
   "provenance": []
  },
  "kernelspec": {
   "display_name": "Python 3 (ipykernel)",
   "language": "python",
   "name": "python3"
  },
  "language_info": {
   "codemirror_mode": {
    "name": "ipython",
    "version": 3
   },
   "file_extension": ".py",
   "mimetype": "text/x-python",
   "name": "python",
   "nbconvert_exporter": "python",
   "pygments_lexer": "ipython3",
   "version": "3.9.16"
  }
 },
 "nbformat": 4,
 "nbformat_minor": 1
}
